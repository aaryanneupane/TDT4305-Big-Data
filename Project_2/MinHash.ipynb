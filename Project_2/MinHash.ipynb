{
 "cells": [
  {
   "cell_type": "code",
   "execution_count": 4,
   "id": "afe94871",
   "metadata": {},
   "outputs": [],
   "source": [
    "import numpy as np\n",
    "import hashlib"
   ]
  },
  {
   "cell_type": "markdown",
   "id": "6e4f5bf9",
   "metadata": {},
   "source": [
    "Name A: Aaryan Neupane\n",
    "\n",
    "Name B: Anne Torgersen"
   ]
  },
  {
   "cell_type": "code",
   "execution_count": 5,
   "id": "42d4a72d",
   "metadata": {},
   "outputs": [],
   "source": [
    "#Four (4) 'relevant' TDT4305 sentences\n",
    "\n",
    "Sentence_1 = \"The Big Data platform for students is Blackboard\"\n",
    "Sentence_2 = \"Questions on MinHash project by NTNU students is on Piazza\"\n",
    "Sentence_3 = \"NTNU Big Data platform are Blackboard and Piazza\"\n",
    "Sentence_4 = \"The project data for students are on Blackboard not Piazza\""
   ]
  },
  {
   "cell_type": "code",
   "execution_count": 6,
   "id": "f619be36",
   "metadata": {},
   "outputs": [],
   "source": [
    "unique_words = ['big', 'blackboard', 'data', 'minhash', 'ntnu', 'piazza', 'platform', 'project', 'questions', 'students'] # Enter the unique words list here"
   ]
  },
  {
   "cell_type": "code",
   "execution_count": 7,
   "id": "e633fa9c",
   "metadata": {},
   "outputs": [
    {
     "name": "stdout",
     "output_type": "stream",
     "text": [
      "Format: ['word', 'word', 'word' ...] & watch out for white spaces before comma\n"
     ]
    },
    {
     "name": "stdin",
     "output_type": "stream",
     "text": [
      "Enter your created list of unique words:  ['big', 'blackboard', 'data', 'minhash', 'ntnu', 'piazza', 'platform', 'project', 'questions', 'students']\n"
     ]
    },
    {
     "name": "stdout",
     "output_type": "stream",
     "text": [
      "Correct! Your dictionary matched!\n"
     ]
    }
   ],
   "source": [
    "# User input\n",
    "\n",
    "print(f\"Format: ['word', 'word', 'word' ...] & watch out for white spaces before comma\")\n",
    "user_input = str(input(\"Enter your created list of unique words: \")) \n",
    "\n",
    "f = open(\"encrypted_dictionary.txt\", \"r\")\n",
    "encrypted_words = f.read()\n",
    "\n",
    "\n",
    "# Hash the user input\n",
    "hashed_user_input = hashlib.sha256(user_input.encode()).hexdigest()\n",
    "\n",
    "# Compare with the stored hash\n",
    "if hashed_user_input == encrypted_words:\n",
    "    print(\"Correct! Your dictionary matched!\")\n",
    "else:\n",
    "    print(\"Incorrect! Try again.\")"
   ]
  },
  {
   "cell_type": "code",
   "execution_count": 8,
   "id": "0b10d096",
   "metadata": {},
   "outputs": [
    {
     "name": "stdout",
     "output_type": "stream",
     "text": [
      "[[0 0 0 0]\n",
      " [0 0 0 0]\n",
      " [0 0 0 0]\n",
      " [0 0 0 0]\n",
      " [0 0 0 0]\n",
      " [0 0 0 0]\n",
      " [0 0 0 0]\n",
      " [0 0 0 0]\n",
      " [0 0 0 0]\n",
      " [0 0 0 0]]\n"
     ]
    }
   ],
   "source": [
    "Input_Matrix = np.zeros((10, 4), dtype = int) # Create an empty array of input matrix\n",
    "print(Input_Matrix)"
   ]
  },
  {
   "cell_type": "code",
   "execution_count": 9,
   "id": "8b7267f5",
   "metadata": {},
   "outputs": [
    {
     "name": "stdout",
     "output_type": "stream",
     "text": [
      "[[1 0 1 0]\n",
      " [1 0 1 1]\n",
      " [1 0 1 1]\n",
      " [0 1 0 0]\n",
      " [0 1 1 0]\n",
      " [0 1 1 1]\n",
      " [1 0 1 0]\n",
      " [0 1 0 1]\n",
      " [0 1 0 0]\n",
      " [1 1 0 1]]\n"
     ]
    }
   ],
   "source": [
    "## Compute the values for the input matrix here ##\n",
    "sentences = [\"The Big Data platform for students is Blackboard\",\"Questions on MinHash project by NTNU students is on Piazza\",\n",
    "             \"NTNU Big Data platform are Blackboard and Piazza\",\"The project data for students are on Blackboard not Piazza\"]\n",
    "\n",
    "# Loop through each word and each sentence\n",
    "for i, word in enumerate(unique_words):\n",
    "    for j, sentence in enumerate(sentences):\n",
    "        if word in sentence.lower():  # Case-insensitive check for word presence\n",
    "            Input_Matrix[i][j] = 1  # Update the value to 1 if word is present\n",
    "\n",
    "print(Input_Matrix)"
   ]
  },
  {
   "cell_type": "code",
   "execution_count": 10,
   "id": "acf3c3dd",
   "metadata": {},
   "outputs": [
    {
     "name": "stdout",
     "output_type": "stream",
     "text": [
      "[[inf inf inf inf]\n",
      " [inf inf inf inf]\n",
      " [inf inf inf inf]]\n"
     ]
    }
   ],
   "source": [
    "Sig_M = np.full((3, 4), np.inf) # Create a MinHash signature matrix array with inf values\n",
    "print(Sig_M)"
   ]
  },
  {
   "cell_type": "code",
   "execution_count": 2,
   "id": "145bfafc",
   "metadata": {},
   "outputs": [],
   "source": [
    "# Generate hash functions"
   ]
  },
  {
   "cell_type": "code",
   "execution_count": 18,
   "id": "3f799a86",
   "metadata": {},
   "outputs": [
    {
     "ename": "IndexError",
     "evalue": "index 3 is out of bounds for axis 0 with size 3",
     "output_type": "error",
     "traceback": [
      "\u001b[0;31m---------------------------------------------------------------------------\u001b[0m",
      "\u001b[0;31mIndexError\u001b[0m                                Traceback (most recent call last)",
      "Cell \u001b[0;32mIn[18], line 11\u001b[0m\n\u001b[1;32m      9\u001b[0m \u001b[38;5;28;01mif\u001b[39;00m \u001b[38;5;241m1\u001b[39m \u001b[38;5;129;01min\u001b[39;00m c:\n\u001b[1;32m     10\u001b[0m     \u001b[38;5;28;01mfor\u001b[39;00m hi \u001b[38;5;129;01min\u001b[39;00m hash_list:\n\u001b[0;32m---> 11\u001b[0m         \u001b[38;5;28;01mif\u001b[39;00m hi[i] \u001b[38;5;241m<\u001b[39m \u001b[43mSig_M\u001b[49m\u001b[43m[\u001b[49m\u001b[43mj\u001b[49m\u001b[43m,\u001b[49m\u001b[43m \u001b[49m\u001b[43mi\u001b[49m\u001b[43m]\u001b[49m:\n\u001b[1;32m     12\u001b[0m             Sig_M[j, i] \u001b[38;5;241m=\u001b[39m hi[i]\n",
      "\u001b[0;31mIndexError\u001b[0m: index 3 is out of bounds for axis 0 with size 3"
     ]
    }
   ],
   "source": [
    "hash_1 = [5 ,6 ,7 ,8 ,9 ,10 ,1 ,2 ,3 ,4]\n",
    "hash_2 = [9, 6, 3, 10, 7, 4, 1, 8, 5, 2]\n",
    "hash_3 = [10, 7, 4, 1, 8, 5, 2, 9, 6, 3]\n",
    "hash_list = [hash_1, hash_2, hash_3]\n",
    "\n",
    "## Using the hash functions and the input matrix compute the MinHash signature matrix here ##\n",
    "for i, r in enumerate(Input_Matrix):\n",
    "    for j, c in enumerate(Input_Matrix):\n",
    "        if 1 in r:\n",
    "            for hi in hash_list:\n",
    "                if hi[i] < Sig_M[j, i]:\n",
    "                    Sig_M[j, i] = hi[i]"
   ]
  },
  {
   "cell_type": "code",
   "execution_count": 12,
   "id": "56c9d088",
   "metadata": {},
   "outputs": [
    {
     "data": {
      "text/plain": [
       "array([[3., 4., 3., 3.],\n",
       "       [2., 5., 2., 2.],\n",
       "       [3., 6., 3., 3.]])"
      ]
     },
     "execution_count": 12,
     "metadata": {},
     "output_type": "execute_result"
    }
   ],
   "source": [
    "# print the updated MinHash signature matrix\n",
    "\n",
    "Sig_M"
   ]
  }
 ],
 "metadata": {
  "kernelspec": {
   "display_name": "My Python Environment",
   "language": "python",
   "name": "myenv"
  },
  "language_info": {
   "codemirror_mode": {
    "name": "ipython",
    "version": 3
   },
   "file_extension": ".py",
   "mimetype": "text/x-python",
   "name": "python",
   "nbconvert_exporter": "python",
   "pygments_lexer": "ipython3",
   "version": "3.11.5"
  }
 },
 "nbformat": 4,
 "nbformat_minor": 5
}
