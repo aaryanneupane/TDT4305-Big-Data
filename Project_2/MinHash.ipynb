{
 "cells": [
  {
   "cell_type": "code",
   "execution_count": 22,
   "id": "afe94871",
   "metadata": {},
   "outputs": [],
   "source": [
    "import numpy as np\n",
    "import hashlib"
   ]
  },
  {
   "cell_type": "markdown",
   "id": "6e4f5bf9",
   "metadata": {},
   "source": [
    "Name A: Aaryan Neupane\n",
    "\n",
    "Name B: Anne Torgersen"
   ]
  },
  {
   "cell_type": "code",
   "execution_count": 23,
   "id": "42d4a72d",
   "metadata": {},
   "outputs": [],
   "source": [
    "#Four (4) 'relevant' TDT4305 sentences\n",
    "\n",
    "Sentence_1 = \"The Big Data platform for students is Blackboard\"\n",
    "Sentence_2 = \"Questions on MinHash project by NTNU students is on Piazza\"\n",
    "Sentence_3 = \"NTNU Big Data platform are Blackboard and Piazza\"\n",
    "Sentence_4 = \"The project data for students are on Blackboard not Piazza\""
   ]
  },
  {
   "cell_type": "code",
   "execution_count": 24,
   "id": "f619be36",
   "metadata": {},
   "outputs": [],
   "source": [
    "unique_words = ['big', 'blackboard', 'data', 'minhash', 'ntnu', 'piazza', 'platform', 'project', 'questions', 'students'] # Enter the unique words list here"
   ]
  },
  {
   "cell_type": "code",
   "execution_count": 25,
   "id": "e633fa9c",
   "metadata": {},
   "outputs": [
    {
     "name": "stdout",
     "output_type": "stream",
     "text": [
      "Format: ['word', 'word', 'word' ...] & watch out for white spaces before comma\n"
     ]
    },
    {
     "name": "stdin",
     "output_type": "stream",
     "text": [
      "Enter your created list of unique words:  ['big', 'blackboard', 'data', 'minhash', 'ntnu', 'piazza', 'platform', 'project', 'questions', 'students']\n"
     ]
    },
    {
     "name": "stdout",
     "output_type": "stream",
     "text": [
      "Correct! Your dictionary matched!\n"
     ]
    }
   ],
   "source": [
    "# User input\n",
    "\n",
    "print(f\"Format: ['word', 'word', 'word' ...] & watch out for white spaces before comma\")\n",
    "user_input = str(input(\"Enter your created list of unique words: \")) \n",
    "\n",
    "f = open(\"encrypted_dictionary.txt\", \"r\")\n",
    "encrypted_words = f.read()\n",
    "\n",
    "\n",
    "# Hash the user input\n",
    "hashed_user_input = hashlib.sha256(user_input.encode()).hexdigest()\n",
    "\n",
    "# Compare with the stored hash\n",
    "if hashed_user_input == encrypted_words:\n",
    "    print(\"Correct! Your dictionary matched!\")\n",
    "else:\n",
    "    print(\"Incorrect! Try again.\")"
   ]
  },
  {
   "cell_type": "code",
   "execution_count": 26,
   "id": "0b10d096",
   "metadata": {},
   "outputs": [
    {
     "name": "stdout",
     "output_type": "stream",
     "text": [
      "[[0 0 0 0]\n",
      " [0 0 0 0]\n",
      " [0 0 0 0]\n",
      " [0 0 0 0]\n",
      " [0 0 0 0]\n",
      " [0 0 0 0]\n",
      " [0 0 0 0]\n",
      " [0 0 0 0]\n",
      " [0 0 0 0]\n",
      " [0 0 0 0]]\n"
     ]
    }
   ],
   "source": [
    "Input_Matrix = np.zeros((10, 4), dtype = int) # Create an empty array of input matrix\n",
    "print(Input_Matrix)"
   ]
  },
  {
   "cell_type": "code",
   "execution_count": 27,
   "id": "8b7267f5",
   "metadata": {},
   "outputs": [
    {
     "name": "stdout",
     "output_type": "stream",
     "text": [
      "[[1 0 1 0]\n",
      " [1 0 1 1]\n",
      " [1 0 1 1]\n",
      " [0 1 0 0]\n",
      " [0 1 1 0]\n",
      " [0 1 1 1]\n",
      " [1 0 1 0]\n",
      " [0 1 0 1]\n",
      " [0 1 0 0]\n",
      " [1 1 0 1]]\n"
     ]
    }
   ],
   "source": [
    "## Compute the values for the input matrix here ##\n",
    "sentences = [\"The Big Data platform for students is Blackboard\",\"Questions on MinHash project by NTNU students is on Piazza\",\n",
    "             \"NTNU Big Data platform are Blackboard and Piazza\",\"The project data for students are on Blackboard not Piazza\"]\n",
    "\n",
    "# Loop through each word and each sentence\n",
    "for i, word in enumerate(unique_words):\n",
    "    for j, sentence in enumerate(sentences):\n",
    "        if word in sentence.lower():  # Case-insensitive check for word presence\n",
    "            Input_Matrix[i][j] = 1  # Update the value to 1 if word is present\n",
    "\n",
    "print(Input_Matrix)"
   ]
  },
  {
   "cell_type": "code",
   "execution_count": 28,
   "id": "acf3c3dd",
   "metadata": {},
   "outputs": [
    {
     "name": "stdout",
     "output_type": "stream",
     "text": [
      "[[inf inf inf inf]\n",
      " [inf inf inf inf]\n",
      " [inf inf inf inf]]\n"
     ]
    }
   ],
   "source": [
    "Sig_M = np.full((3, 4), np.inf) # Create a MinHash signature matrix array with inf values\n",
    "print(Sig_M)"
   ]
  },
  {
   "cell_type": "code",
   "execution_count": 29,
   "id": "3f799a86",
   "metadata": {},
   "outputs": [],
   "source": [
    "# Generate hash functions\n",
    "hash_functions = [\n",
    "    lambda x: (x + 3) % 10 + 1,\n",
    "    lambda x: (7 * x + 1) % 10 + 1,\n",
    "    lambda x: (7 * x + 2) % 10 + 1\n",
    "]\n",
    "\n",
    "# Using the hash functions and the input matrix to compute the MinHash signature matrix\n",
    "for i,row in enumerate(Input_Matrix):\n",
    "    for j,col in enumerate(row):\n",
    "        if col == 1:\n",
    "            for k,hash_func in enumerate(hash_functions):\n",
    "                hashed_value = hash_func(i+1)\n",
    "                if hashed_value < Sig_M[k][j]: \n",
    "                    Sig_M[k][j] = hashed_value"
   ]
  },
  {
   "cell_type": "code",
   "execution_count": 30,
   "id": "56c9d088",
   "metadata": {},
   "outputs": [
    {
     "data": {
      "text/plain": [
       "array([[1., 2., 1., 2.],\n",
       "       [1., 2., 1., 2.],\n",
       "       [2., 1., 2., 3.]])"
      ]
     },
     "execution_count": 30,
     "metadata": {},
     "output_type": "execute_result"
    }
   ],
   "source": [
    "# print the updated MinHash signature matrix\n",
    "\n",
    "Sig_M"
   ]
  }
 ],
 "metadata": {
  "kernelspec": {
   "display_name": "My Python Environment",
   "language": "python",
   "name": "myenv"
  },
  "language_info": {
   "codemirror_mode": {
    "name": "ipython",
    "version": 3
   },
   "file_extension": ".py",
   "mimetype": "text/x-python",
   "name": "python",
   "nbconvert_exporter": "python",
   "pygments_lexer": "ipython3",
   "version": "3.11.5"
  }
 },
 "nbformat": 4,
 "nbformat_minor": 5
}
