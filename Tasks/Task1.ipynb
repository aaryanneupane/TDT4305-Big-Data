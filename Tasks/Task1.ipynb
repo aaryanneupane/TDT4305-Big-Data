{
 "cells": [
  {
   "cell_type": "markdown",
   "metadata": {
    "application/vnd.databricks.v1+cell": {
     "inputWidgets": {},
     "nuid": "85d8965a-c0b4-4802-abb8-05fc5e21ce59",
     "showTitle": false,
     "title": ""
    }
   },
   "source": [
    "#### Names of people in the group\n",
    "\n",
    "Please write the names of the people in your group in the next cell."
   ]
  },
  {
   "cell_type": "markdown",
   "metadata": {
    "application/vnd.databricks.v1+cell": {
     "inputWidgets": {},
     "nuid": "37c623c5-86c0-48ee-85de-5d514b4b334f",
     "showTitle": false,
     "title": ""
    }
   },
   "source": [
    "Name of person A\n",
    "\n",
    "Name of person B"
   ]
  },
  {
   "cell_type": "code",
   "execution_count": 8,
   "metadata": {
    "application/vnd.databricks.v1+cell": {
     "inputWidgets": {},
     "nuid": "324eb902-51f2-44b0-8ff1-730efac9900c",
     "showTitle": false,
     "title": ""
    },
    "tags": []
   },
   "outputs": [
    {
     "ename": "NameError",
     "evalue": "name 'dbutils' is not defined",
     "output_type": "error",
     "traceback": [
      "\u001b[0;31m---------------------------------------------------------------------------\u001b[0m",
      "\u001b[0;31mNameError\u001b[0m                                 Traceback (most recent call last)",
      "Cell \u001b[0;32mIn[8], line 2\u001b[0m\n\u001b[1;32m      1\u001b[0m \u001b[38;5;66;03m# Deleting tables left from previous runs in case they still exist after deleting an inactive cluster\u001b[39;00m\n\u001b[0;32m----> 2\u001b[0m \u001b[43mdbutils\u001b[49m\u001b[38;5;241m.\u001b[39mfs\u001b[38;5;241m.\u001b[39mrm(\u001b[38;5;124m\"\u001b[39m\u001b[38;5;124m/user\u001b[39m\u001b[38;5;124m\"\u001b[39m, recurse\u001b[38;5;241m=\u001b[39m\u001b[38;5;28;01mTrue\u001b[39;00m)\n",
      "\u001b[0;31mNameError\u001b[0m: name 'dbutils' is not defined"
     ]
    }
   ],
   "source": [
    "# Deleting tables left from previous runs in case they still exist after deleting an inactive cluster\n",
    "dbutils.fs.rm(\"/user\", recurse=True)"
   ]
  },
  {
   "cell_type": "code",
   "execution_count": 18,
   "metadata": {
    "application/vnd.databricks.v1+cell": {
     "inputWidgets": {},
     "nuid": "60b530d6-b580-4de2-affb-aad878f4da86",
     "showTitle": false,
     "title": ""
    },
    "tags": []
   },
   "outputs": [],
   "source": [
    "# We need to install 'ipython_unittest' to run unittests in a Jupyter notebook\n",
    "!pip install -q ipython_unittest"
   ]
  },
  {
   "cell_type": "code",
   "execution_count": 36,
   "metadata": {
    "application/vnd.databricks.v1+cell": {
     "inputWidgets": {},
     "nuid": "023f4d10-e729-450c-8d1a-50d494b488d6",
     "showTitle": false,
     "title": ""
    },
    "tags": []
   },
   "outputs": [],
   "source": [
    "# Loading PySpark modules that we need\n",
    "import unittest\n",
    "from collections import Counter\n",
    "from pyspark.sql import DataFrame\n",
    "from pyspark.sql.types import *\n",
    "from pyspark.sql import SparkSession"
   ]
  },
  {
   "cell_type": "markdown",
   "metadata": {
    "application/vnd.databricks.v1+cell": {
     "inputWidgets": {},
     "nuid": "fcda919c-b51e-4b61-9d61-80cc24f2d15e",
     "showTitle": false,
     "title": ""
    }
   },
   "source": [
    "#### Subtask 1: defining the schema for the data\n",
    "Typically, the first thing to do before loading the data into a Spark cluster is to define the schema for the data. Look at the schema for 'badges' and try to define the schema for other tables similarly."
   ]
  },
  {
   "cell_type": "code",
   "execution_count": 20,
   "metadata": {
    "application/vnd.databricks.v1+cell": {
     "inputWidgets": {},
     "nuid": "ab8bdba5-f6d6-43bf-bed9-763d99cfcc91",
     "showTitle": false,
     "title": ""
    },
    "tags": []
   },
   "outputs": [],
   "source": [
    "# Defining a schema for 'badges' table\n",
    "badges_schema = StructType([StructField('UserId', IntegerType(), False),\n",
    "                            StructField('Name', StringType(), False),\n",
    "                            StructField('Date', TimestampType(), False),\n",
    "                            StructField('Class', IntegerType(), False)])\n",
    "\n",
    "# Defining a schema for 'posts' table\n",
    "posts_schema = StructType([StructField('Id', IntegerType(), False),\n",
    "                            StructField('ParentId', IntegerType(), False),    \n",
    "                           StructField('PostTypeId', IntegerType(), False),\n",
    "                            StructField('CreationDate', TimestampType(), False),\n",
    "                            StructField('Score', IntegerType(), False), \n",
    "                           StructField('ViewCount', IntegerType(), False),\n",
    "                          StructField('LastActivityDate', TimestampType(), False),\n",
    "                          StructField('Title', StringType(), False),\n",
    "                          StructField('Tags', StringType(), False),\n",
    "                          StructField('AnswerCount', IntegerType(), False),\n",
    "                          StructField('CommentCount', IntegerType(), False),\n",
    "                          StructField('FavoriteCount', IntegerType(), False),\n",
    "                          StructField('CloseDate', TimestampType(), False)])\n",
    "\n",
    "# Defining a schema for 'users' table\n",
    "users_schema = StructType([StructField('Id', IntegerType(), False),\n",
    "                            StructField('Reputation', StringType(), False),\n",
    "                            StructField('CreationDate', TimestampType(), False),\n",
    "                            StructField('DisplayName', StringType(), False), \n",
    "                           StructField('LastAcessDate', TimestampType(), False),\n",
    "                          StructField('AboutMe', StringType(), False),\n",
    "                          StructField('Views', IntegerType(), False),\n",
    "                          StructField('UpVotes', IntegerType(), False),\n",
    "                          StructField('DownVotes', IntegerType(), False)])\n",
    "\n",
    "# Defining a schema for 'comments' table\n",
    "comments_schema = StructType([StructField('PostId', IntegerType(), False),\n",
    "                            StructField('Score', IntegerType(), False),\n",
    "                    StructField('Text', StringType(), False),\n",
    "                            StructField('CreationDate', TimestampType(), False), \n",
    "                           StructField('UserId', IntegerType(), False)])"
   ]
  },
  {
   "cell_type": "markdown",
   "metadata": {
    "application/vnd.databricks.v1+cell": {
     "inputWidgets": {},
     "nuid": "fab2cfe2-0961-4a22-8fb1-9a6f9191fbcf",
     "showTitle": false,
     "title": ""
    }
   },
   "source": [
    "#### Subtask 2: implementing two helper functions\n",
    "Next, we need to implement two helper functions:\n",
    "1. 'load_csv' that as input argument receives path for a CSV file and a schema and loads the CSV pointed by the path into a Spark DataFrame and returns the DataFrame;\n",
    "2. 'save_df' receives a Spark DataFrame and saves it as a Parquet file on DBFS.\n",
    "\n",
    "Note that the column separator in CSV files is TAB character ('\\t') and the first row includes the name of the columns. \n",
    "\n",
    "BTW, DBFS is the name of the distributed filesystem used by Databricks Community Edition to store and access data."
   ]
  },
  {
   "cell_type": "code",
   "execution_count": 38,
   "metadata": {
    "application/vnd.databricks.v1+cell": {
     "inputWidgets": {},
     "nuid": "089f87ff-f2c8-4ac8-8449-cec251c502f6",
     "showTitle": false,
     "title": ""
    },
    "tags": []
   },
   "outputs": [],
   "source": [
    "def load_csv(source_file: \"path for the CSV file to load\", schema: \"schema for the CSV file being loaded as a DataFrame\") -> DataFrame:\n",
    "    df = spark.read.csv(source_file, schema=schema, sep=\"\\t\", header=True)\n",
    "    return df\n",
    "\n",
    "def save_df(df: \"DataFrame to be saved\", table_name: \"name under which the DataFrame will be saved\") -> None:\n",
    "    parquet_file_path = f\"dbfs:/saved/parquet/{table_name}\"\n",
    "    df.write.parquet(parquet_file_path)"
   ]
  },
  {
   "cell_type": "code",
   "execution_count": 39,
   "metadata": {
    "application/vnd.databricks.v1+cell": {
     "inputWidgets": {},
     "nuid": "39bc683c-b37a-4842-8bf8-004620b17cca",
     "showTitle": false,
     "title": ""
    },
    "tags": []
   },
   "outputs": [
    {
     "name": "stdout",
     "output_type": "stream",
     "text": [
      "The ipython_unittest extension is already loaded. To reload it, use:\n",
      "  %reload_ext ipython_unittest\n"
     ]
    }
   ],
   "source": [
    "# Loading 'ipython_unittest' so we can use '%%unittest_main' magic command\n",
    "%load_ext ipython_unittest"
   ]
  },
  {
   "cell_type": "markdown",
   "metadata": {
    "application/vnd.databricks.v1+cell": {
     "inputWidgets": {},
     "nuid": "8903e903-7e4f-4c15-99bd-c9129a601fde",
     "showTitle": false,
     "title": ""
    }
   },
   "source": [
    "#### Subtask 3: validating the implementation by running the tests\n",
    "\n",
    "Run the cell below and make sure that all the tests run successfully. Moreover, at the end there should be four Parquet files named 'badges', 'comments', 'posts', and 'users' in '/user/hive/warehouse'.\n",
    "\n",
    "Note that we assumed that the data for the project has already been stored on DBFS on the '/FileStore/tables/' path. (I mean as 'badges_csv.gz', 'comments_csv.gz', 'posts_csv.gz', and 'users_csv.gz'.)"
   ]
  },
  {
   "cell_type": "code",
   "execution_count": 40,
   "metadata": {
    "application/vnd.databricks.v1+cell": {
     "inputWidgets": {},
     "nuid": "cd470d59-2571-4b7d-b022-9ee8f7c3e281",
     "showTitle": false,
     "title": ""
    },
    "tags": []
   },
   "outputs": [
    {
     "data": {
      "application/unittest.status+json": {
       "color": "yellow",
       "message": "",
       "previous": 0
      },
      "text/plain": []
     },
     "metadata": {},
     "output_type": "display_data"
    },
    {
     "data": {
      "application/unittest.status+json": {
       "color": "salmon",
       "message": "EEEEE\n======================================================================\nERROR: test_load_badges (__main__.TestTask1.test_load_badges)\n----------------------------------------------------------------------\nTraceback (most recent call last):\n  File \"Cell Tests\", line 5, in test_load_badges\n  File \"/var/folders/_f/xtcx7grj5fd4s4xvm97_2p0m0000gn/T/ipykernel_61981/4061304004.py\", line 2, in load_csv\n    df = spark.read.csv(source_file, schema=schema, sep=\"\\t\", header=True)\n         ^^^^^\nNameError: name 'spark' is not defined\n\n======================================================================\nERROR: test_load_comments (__main__.TestTask1.test_load_comments)\n----------------------------------------------------------------------\nTraceback (most recent call last):\n  File \"Cell Tests\", line 30, in test_load_comments\n  File \"/var/folders/_f/xtcx7grj5fd4s4xvm97_2p0m0000gn/T/ipykernel_61981/4061304004.py\", line 2, in load_csv\n    df = spark.read.csv(source_file, schema=schema, sep=\"\\t\", header=True)\n         ^^^^^\nNameError: name 'spark' is not defined\n\n======================================================================\nERROR: test_load_posts (__main__.TestTask1.test_load_posts)\n----------------------------------------------------------------------\nTraceback (most recent call last):\n  File \"Cell Tests\", line 16, in test_load_posts\n  File \"/var/folders/_f/xtcx7grj5fd4s4xvm97_2p0m0000gn/T/ipykernel_61981/4061304004.py\", line 2, in load_csv\n    df = spark.read.csv(source_file, schema=schema, sep=\"\\t\", header=True)\n         ^^^^^\nNameError: name 'spark' is not defined\n\n======================================================================\nERROR: test_load_users (__main__.TestTask1.test_load_users)\n----------------------------------------------------------------------\nTraceback (most recent call last):\n  File \"Cell Tests\", line 41, in test_load_users\n  File \"/var/folders/_f/xtcx7grj5fd4s4xvm97_2p0m0000gn/T/ipykernel_61981/4061304004.py\", line 2, in load_csv\n    df = spark.read.csv(source_file, schema=schema, sep=\"\\t\", header=True)\n         ^^^^^\nNameError: name 'spark' is not defined\n\n======================================================================\nERROR: test_save_dfs (__main__.TestTask1.test_save_dfs)\n----------------------------------------------------------------------\nTraceback (most recent call last):\n  File \"Cell Tests\", line 60, in test_save_dfs\n  File \"/var/folders/_f/xtcx7grj5fd4s4xvm97_2p0m0000gn/T/ipykernel_61981/4061304004.py\", line 2, in load_csv\n    df = spark.read.csv(source_file, schema=schema, sep=\"\\t\", header=True)\n         ^^^^^\nNameError: name 'spark' is not defined\n\n----------------------------------------------------------------------\nRan 5 tests in 0.002s\n\nFAILED (errors=5)\n",
       "previous": 0
      },
      "text/plain": [
       "Fail"
      ]
     },
     "metadata": {},
     "output_type": "display_data"
    },
    {
     "name": "stdout",
     "output_type": "stream",
     "text": [
      "EEEEE\n",
      "======================================================================\n",
      "ERROR: test_load_badges (__main__.TestTask1.test_load_badges)\n",
      "----------------------------------------------------------------------\n",
      "Traceback (most recent call last):\n",
      "  File \"Cell Tests\", line 5, in test_load_badges\n",
      "  File \"/var/folders/_f/xtcx7grj5fd4s4xvm97_2p0m0000gn/T/ipykernel_61981/4061304004.py\", line 2, in load_csv\n",
      "    df = spark.read.csv(source_file, schema=schema, sep=\"\\t\", header=True)\n",
      "         ^^^^^\n",
      "NameError: name 'spark' is not defined\n",
      "\n",
      "======================================================================\n",
      "ERROR: test_load_comments (__main__.TestTask1.test_load_comments)\n",
      "----------------------------------------------------------------------\n",
      "Traceback (most recent call last):\n",
      "  File \"Cell Tests\", line 30, in test_load_comments\n",
      "  File \"/var/folders/_f/xtcx7grj5fd4s4xvm97_2p0m0000gn/T/ipykernel_61981/4061304004.py\", line 2, in load_csv\n",
      "    df = spark.read.csv(source_file, schema=schema, sep=\"\\t\", header=True)\n",
      "         ^^^^^\n",
      "NameError: name 'spark' is not defined\n",
      "\n",
      "======================================================================\n",
      "ERROR: test_load_posts (__main__.TestTask1.test_load_posts)\n",
      "----------------------------------------------------------------------\n",
      "Traceback (most recent call last):\n",
      "  File \"Cell Tests\", line 16, in test_load_posts\n",
      "  File \"/var/folders/_f/xtcx7grj5fd4s4xvm97_2p0m0000gn/T/ipykernel_61981/4061304004.py\", line 2, in load_csv\n",
      "    df = spark.read.csv(source_file, schema=schema, sep=\"\\t\", header=True)\n",
      "         ^^^^^\n",
      "NameError: name 'spark' is not defined\n",
      "\n",
      "======================================================================\n",
      "ERROR: test_load_users (__main__.TestTask1.test_load_users)\n",
      "----------------------------------------------------------------------\n",
      "Traceback (most recent call last):\n",
      "  File \"Cell Tests\", line 41, in test_load_users\n",
      "  File \"/var/folders/_f/xtcx7grj5fd4s4xvm97_2p0m0000gn/T/ipykernel_61981/4061304004.py\", line 2, in load_csv\n",
      "    df = spark.read.csv(source_file, schema=schema, sep=\"\\t\", header=True)\n",
      "         ^^^^^\n",
      "NameError: name 'spark' is not defined\n",
      "\n",
      "======================================================================\n",
      "ERROR: test_save_dfs (__main__.TestTask1.test_save_dfs)\n",
      "----------------------------------------------------------------------\n",
      "Traceback (most recent call last):\n",
      "  File \"Cell Tests\", line 60, in test_save_dfs\n",
      "  File \"/var/folders/_f/xtcx7grj5fd4s4xvm97_2p0m0000gn/T/ipykernel_61981/4061304004.py\", line 2, in load_csv\n",
      "    df = spark.read.csv(source_file, schema=schema, sep=\"\\t\", header=True)\n",
      "         ^^^^^\n",
      "NameError: name 'spark' is not defined\n",
      "\n",
      "----------------------------------------------------------------------\n",
      "Ran 5 tests in 0.002s\n",
      "\n",
      "FAILED (errors=5)\n"
     ]
    },
    {
     "data": {
      "text/plain": [
       "<unittest.runner.TextTestResult run=5 errors=5 failures=0>"
      ]
     },
     "execution_count": 40,
     "metadata": {},
     "output_type": "execute_result"
    }
   ],
   "source": [
    "%%unittest_main\n",
    "class TestTask1(unittest.TestCase):\n",
    "   \n",
    "    # test 1\n",
    "    def test_load_badges(self):\n",
    "        result = load_csv(source_file=\"/FileStore/tables/badges_csv.gz\", schema=badges_schema)\n",
    "        self.assertIsNotNone(result, \"Badges dataframe did not load successfully\")\n",
    "        self.assertIsInstance(result, DataFrame, \"Result type is not of spark.sql.DataFrame\")\n",
    "        self.assertEqual(result.count(), 105640, \"Number of records is not correct\")\n",
    "\n",
    "        coulmn_names = Counter(map(str.lower, ['UserId', 'Name', 'Date', 'Class']))\n",
    "        self.assertCountEqual(coulmn_names, Counter(map(str.lower, result.columns)),\n",
    "                              \"Missing column(s) or column name mismatch\")\n",
    "    \n",
    "    # test 2\n",
    "    def test_load_posts(self):\n",
    "        result = load_csv(source_file=\"/FileStore/tables/posts_csv.gz\", schema=posts_schema)\n",
    "        self.assertIsNotNone(result, \"Posts dataframe did not load successfully\")\n",
    "        self.assertIsInstance(result, DataFrame, \"Result type is not of spark.sql.DataFrame\")\n",
    "        self.assertEqual(result.count(), 61432, \"Number of records is not correct\")\n",
    "\n",
    "        coulmn_names = Counter(map(str.lower,\n",
    "                                   ['Id', 'ParentId', 'PostTypeId', 'CreationDate', 'Score', 'ViewCount', 'Body', 'OwnerUserId',\n",
    "                                    'LastActivityDate', 'Title', 'Tags', 'AnswerCount', 'CommentCount', 'FavoriteCount',\n",
    "                                    'CloseDate']))\n",
    "        self.assertCountEqual(coulmn_names, Counter(map(str.lower, result.columns)),\n",
    "                              \"Missing column(s) or column name mismatch\")\n",
    "    \n",
    "    # test 3\n",
    "    def test_load_comments(self):\n",
    "        result = load_csv(source_file=\"/FileStore/tables/comments_csv.gz\", schema=comments_schema)\n",
    "        self.assertIsNotNone(result, \"Comments dataframe did not load successfully\")\n",
    "        self.assertIsInstance(result, DataFrame, \"Result type is not of spark.sql.DataFrame\")\n",
    "        self.assertEqual(result.count(), 58735, \"Number of records is not correct\")\n",
    "\n",
    "        coulmn_names = Counter(map(str.lower, ['PostId', 'Score', 'Text', 'CreationDate', 'UserId']))\n",
    "        self.assertCountEqual(coulmn_names, Counter(map(str.lower, result.columns)),\n",
    "                              \"Missing column(s) or column name mismatch\")\n",
    "    \n",
    "    # test 4\n",
    "    def test_load_users(self):\n",
    "        result = load_csv(source_file=\"/FileStore/tables/users_csv.gz\", schema=users_schema)\n",
    "        self.assertIsNotNone(result, \"Users dataframe did not load successfully\")\n",
    "        self.assertIsInstance(result, DataFrame, \"Result type is not of spark.sql.DataFrame\")\n",
    "        self.assertEqual(result.count(), 91616, \"Number of records is not correct\")\n",
    "\n",
    "        coulmn_names = Counter(map(str.lower,\n",
    "                                   ['Id', 'Reputation', 'CreationDate', 'DisplayName', 'LastAccessDate', 'AboutMe',\n",
    "                                    'Views', 'UpVotes', 'DownVotes']))\n",
    "        self.assertCountEqual(coulmn_names, Counter(map(str.lower, result.columns)),\n",
    "                              \"Missing column(s) or column name mismatch\")\n",
    "    # test 5\n",
    "    def test_save_dfs(self):\n",
    "        dfs = [(\"/FileStore/tables/users_csv.gz\", users_schema, \"users\"),\n",
    "               (\"/FileStore/tables/badges_csv.gz\", badges_schema, \"badges\"),\n",
    "               (\"/FileStore/tables/comments_csv.gz\", comments_schema, \"comments\"),\n",
    "               (\"/FileStore/tables/posts_csv.gz\", posts_schema, \"posts\")\n",
    "               ]\n",
    "\n",
    "        for i in dfs:\n",
    "            df = load_csv(source_file=i[0], schema=i[1])\n",
    "            save_df(df, i[2])"
   ]
  },
  {
   "cell_type": "markdown",
   "metadata": {
    "application/vnd.databricks.v1+cell": {
     "inputWidgets": {},
     "nuid": "0f99b257-8618-4796-aeb0-d9446863c259",
     "showTitle": false,
     "title": ""
    }
   },
   "source": [
    "#### Subtask 4: answering to questions about Spark related concepts\n",
    "\n",
    "Please write a short description for the terms below---one to two short paragraphs for each term. Don't copy-paste; instead, write your own understanding.\n",
    "\n",
    "1. What do the terms 'Spark Application', 'SparkSession', 'Transformations', 'Action', and 'Lazy Evaluation' mean in the context of Spark?\n",
    "\n",
    "Write your descriptions in the next cell."
   ]
  },
  {
   "cell_type": "markdown",
   "metadata": {
    "application/vnd.databricks.v1+cell": {
     "inputWidgets": {},
     "nuid": "91ec9fda-7848-4f01-8a36-3b82b78be007",
     "showTitle": false,
     "title": ""
    }
   },
   "source": [
    "Your descriptions..."
   ]
  }
 ],
 "metadata": {
  "application/vnd.databricks.v1+notebook": {
   "dashboards": [],
   "language": "python",
   "notebookMetadata": {
    "pythonIndentUnit": 2
   },
   "notebookName": "Task1p1 (1)",
   "notebookOrigID": 3435467642239151,
   "widgets": {}
  },
  "kernelspec": {
   "display_name": "Python 3 (ipykernel)",
   "language": "python",
   "name": "python3"
  },
  "language_info": {
   "codemirror_mode": {
    "name": "ipython",
    "version": 3
   },
   "file_extension": ".py",
   "mimetype": "text/x-python",
   "name": "python",
   "nbconvert_exporter": "python",
   "pygments_lexer": "ipython3",
   "version": "3.11.4"
  }
 },
 "nbformat": 4,
 "nbformat_minor": 4
}
