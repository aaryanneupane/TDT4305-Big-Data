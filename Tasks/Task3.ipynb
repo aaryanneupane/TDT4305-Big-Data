{
 "cells": [
  {
   "cell_type": "markdown",
   "metadata": {
    "application/vnd.databricks.v1+cell": {
     "cellMetadata": {},
     "inputWidgets": {},
     "nuid": "bbe62928-01d3-402d-9e45-19d009a4639d",
     "showTitle": false,
     "title": ""
    }
   },
   "source": [
    "#### Names of people in the group\n",
    "\n",
    "Please write the names of the people in your group in the next cell."
   ]
  },
  {
   "cell_type": "markdown",
   "metadata": {
    "application/vnd.databricks.v1+cell": {
     "cellMetadata": {},
     "inputWidgets": {},
     "nuid": "15e1606f-bbea-4e98-9f90-bf0a15da5391",
     "showTitle": false,
     "title": ""
    }
   },
   "source": [
    "Anne Torgersen\n",
    "\n",
    "Aaryan Neupane"
   ]
  },
  {
   "cell_type": "code",
   "execution_count": 0,
   "metadata": {
    "application/vnd.databricks.v1+cell": {
     "cellMetadata": {
      "byteLimit": 2048000,
      "rowLimit": 10000
     },
     "inputWidgets": {},
     "nuid": "95475f24-a272-4302-ae31-9d302e918ef7",
     "showTitle": false,
     "title": ""
    }
   },
   "outputs": [
    {
     "output_type": "stream",
     "name": "stdout",
     "output_type": "stream",
     "text": [
      "\u001B[33mWARNING: You are using pip version 21.2.4; however, version 23.3.2 is available.\r\nYou should consider upgrading via the '/local_disk0/.ephemeral_nfs/envs/pythonEnv-a175d843-5c09-4e71-8b25-e44262ecba33/bin/python -m pip install --upgrade pip' command.\u001B[0m\r\n"
     ]
    }
   ],
   "source": [
    "# We need to install 'ipython_unittest' to run unittests in a Jupyter notebook\n",
    "!pip install -q ipython_unittest"
   ]
  },
  {
   "cell_type": "code",
   "execution_count": 0,
   "metadata": {
    "application/vnd.databricks.v1+cell": {
     "cellMetadata": {
      "byteLimit": 2048000,
      "rowLimit": 10000
     },
     "inputWidgets": {},
     "nuid": "389ff132-7e3c-444e-a980-6490e3448153",
     "showTitle": false,
     "title": ""
    }
   },
   "outputs": [],
   "source": [
    "# Loading modules that we need\n",
    "from pyspark.sql.dataframe import DataFrame\n",
    "from collections import Counter\n",
    "from pyspark.sql.functions import desc\n",
    "import numpy as np"
   ]
  },
  {
   "cell_type": "code",
   "execution_count": 0,
   "metadata": {
    "application/vnd.databricks.v1+cell": {
     "cellMetadata": {
      "byteLimit": 2048000,
      "rowLimit": 10000
     },
     "inputWidgets": {},
     "nuid": "1b384d61-f63a-4c3f-9d87-63e0427c5ecd",
     "showTitle": false,
     "title": ""
    }
   },
   "outputs": [],
   "source": [
    "# A helper function to load a table (stored in Parquet format) from DBFS as a Spark DataFrame \n",
    "def load_df(table_name: \"name of the table to load\") -> DataFrame:\n",
    "    return spark.read.parquet(table_name)\n",
    "\n",
    "users_df = load_df(\"/user/hive/warehouse/users\")\n",
    "posts_df = load_df(\"/user/hive/warehouse/posts\")"
   ]
  },
  {
   "cell_type": "markdown",
   "metadata": {
    "application/vnd.databricks.v1+cell": {
     "cellMetadata": {},
     "inputWidgets": {},
     "nuid": "2a34dda8-b217-4958-993e-b10e5c4c7e01",
     "showTitle": false,
     "title": ""
    }
   },
   "source": [
    "#### Subtask 1: implementing two functions\n",
    "Implement these two functions:\n",
    "1. 'compute_pearsons_r' that receives a DataFrame and two column names and returns the [Pearson correlation coefficient](https://en.wikipedia.org/wiki/Pearson_correlation_coefficient) between values of two columns;\n",
    "2. 'make_tag_graph' that in the input receives the DataFrame containing the records related to 'questions' and returns a DataFrame with two columns 'u' and 'v'; the record for row i from the resulting DataFrame is a tuple (u_i, v_i). u_i and v_j are distinct tags and have appeared together for a question.\n",
    "\n",
    "Please note that you should implement the 'compute_pearsons_r' yourself, so you should not use the 'DataFrame.stat.corr' method. Nevertheless, you can use 'DataFrame.stat.corr' to verify the correctness of your implementation."
   ]
  },
  {
   "cell_type": "code",
   "execution_count": 0,
   "metadata": {
    "application/vnd.databricks.v1+cell": {
     "cellMetadata": {
      "byteLimit": 2048000,
      "rowLimit": 10000
     },
     "inputWidgets": {},
     "nuid": "5309637d-1430-4727-8ece-e8ce2865fae9",
     "showTitle": false,
     "title": ""
    }
   },
   "outputs": [],
   "source": [
    "def compute_pearsons_r(df: \"a DataFrame\", col1: \"name of column A\", col2: \"name of column B\") -> float:\n",
    "    df.createOrReplaceTempView(\"df\")\n",
    "    correlation_coefficient = spark.sql(\n",
    "        f\"SELECT corr({col1}, {col2}) AS correlation FROM df\"\n",
    "    ).first()[\"correlation\"]\n",
    "    return correlation_coefficient\n",
    "    \n",
    "\n",
    "def make_tag_graph(df: \"DataFrame containing question data\") -> DataFrame:\n",
    "    df.createOrReplaceTempView(\"df\")\n",
    "    record = spark.sql(f\"\")\n"
   ]
  },
  {
   "cell_type": "markdown",
   "metadata": {
    "application/vnd.databricks.v1+cell": {
     "cellMetadata": {
      "byteLimit": 2048000,
      "rowLimit": 10000
     },
     "inputWidgets": {},
     "nuid": "4a81ba4f-9bfa-40b2-b5bb-e5797110b507",
     "showTitle": false,
     "title": ""
    }
   },
   "source": [
    "#### Subtask 2: implementing three functions\n",
    "Impelment these three functions:\n",
    "1. 'get_nodes' that, given the result from execution of 'make_tag_graph', returns a DataFrame with one column named 'id' that includes the tags that have appeared in the tag graph;\n",
    "2. 'get_edges' that, given the result from execution of 'make_tag_graph', returns a DataFrame with two columns 'src' and 'dst' where 'src' is the source node and 'dst' is the destination node.\n",
    "\n",
    "\n",
    "Note that the term 'tag graph' in this context refers to the DataFrame reuturned by executing 'make_tag_graph'. Furthermore, 'src' and 'dst' are distinct, so 'src' != 'dst'."
   ]
  },
  {
   "cell_type": "code",
   "execution_count": 0,
   "metadata": {
    "application/vnd.databricks.v1+cell": {
     "cellMetadata": {
      "byteLimit": 2048000,
      "rowLimit": 10000
     },
     "inputWidgets": {},
     "nuid": "d9b4472a-f1a1-46a5-bf84-a74fc5522749",
     "showTitle": false,
     "title": ""
    }
   },
   "outputs": [
    {
     "output_type": "display_data",
     "data": {
      "text/plain": [
       "\u001B[0;36m  File \u001B[0;32m<command-278238700841534>:4\u001B[0;36m\u001B[0m\n",
       "\u001B[0;31m    def get_edges(df: \"DataFrame of the tag graph\") -> DataFrame:\u001B[0m\n",
       "\u001B[0m    ^\u001B[0m\n",
       "\u001B[0;31mIndentationError\u001B[0m\u001B[0;31m:\u001B[0m expected an indented block\n"
      ]
     },
     "metadata": {
      "application/vnd.databricks.v1+output": {
       "arguments": {},
       "data": "\u001B[0;36m  File \u001B[0;32m<command-278238700841534>:4\u001B[0;36m\u001B[0m\n\u001B[0;31m    def get_edges(df: \"DataFrame of the tag graph\") -> DataFrame:\u001B[0m\n\u001B[0m    ^\u001B[0m\n\u001B[0;31mIndentationError\u001B[0m\u001B[0;31m:\u001B[0m expected an indented block\n",
       "errorSummary": "<span class='ansi-red-fg'>IndentationError</span>: expected an indented block (<command-278238700841534>, line 4)",
       "errorTraceType": "ansi",
       "metadata": {},
       "type": "ipynbError"
      }
     },
     "output_type": "display_data"
    }
   ],
   "source": [
    "def get_nodes(df: \"DataFrame of the tag graph\") -> DataFrame:\n",
    "  ## To-do!\n",
    "\n",
    "def get_edges(df: \"DataFrame of the tag graph\") -> DataFrame:\n",
    "  ## To-do!\n"
   ]
  },
  {
   "cell_type": "code",
   "execution_count": 0,
   "metadata": {
    "application/vnd.databricks.v1+cell": {
     "cellMetadata": {
      "byteLimit": 2048000,
      "rowLimit": 10000
     },
     "inputWidgets": {},
     "nuid": "a5db7dc5-c730-4c11-b5c0-f846257649e7",
     "showTitle": false,
     "title": ""
    }
   },
   "outputs": [
    {
     "output_type": "stream",
     "name": "stdout",
     "output_type": "stream",
     "text": [
      "The ipython_unittest extension is already loaded. To reload it, use:\n  %reload_ext ipython_unittest\n"
     ]
    }
   ],
   "source": [
    "# Loading 'ipython_unittest' so we can use '%%unittest_main' magic command\n",
    "%load_ext ipython_unittest"
   ]
  },
  {
   "cell_type": "code",
   "execution_count": 0,
   "metadata": {
    "application/vnd.databricks.v1+cell": {
     "cellMetadata": {
      "byteLimit": 2048000,
      "rowLimit": 10000
     },
     "inputWidgets": {},
     "nuid": "9b3d5480-8bf4-48e6-972f-c69d4ce20a82",
     "showTitle": false,
     "title": ""
    }
   },
   "outputs": [
    {
     "output_type": "stream",
     "name": "stdout",
     "output_type": "stream",
     "text": [
      "Out[23]: [Row(Id=5, ParentId=None, PostTypeId=1, CreationDate=datetime.datetime(2014, 5, 13, 23, 58, 30), Score=9, ViewCount=789, Body=None, OwnerUserId=5, LastActivityDate=datetime.datetime(2014, 5, 14, 0, 36, 31), Title='SG93IGNhbiBJIGRvIHNpbXBsZSBtYWNoaW5lIGxlYXJuaW5nIHdpdGhvdXQgaGFyZC1jb2RpbmcgYmVoYXZpb3I/', Tags='<machine-learning>', AnswerCount=1, CommentCount=1, FavoriteCount=1, CloseDate=datetime.datetime(2014, 5, 14, 14, 40, 25)),\n Row(Id=7, ParentId=None, PostTypeId=1, CreationDate=datetime.datetime(2014, 5, 14, 0, 11, 6), Score=4, ViewCount=459, Body=None, OwnerUserId=36, LastActivityDate=datetime.datetime(2014, 5, 16, 13, 45), Title='V2hhdCBvcGVuLXNvdXJjZSBib29rcyAob3Igb3RoZXIgbWF0ZXJpYWxzKSBwcm92aWRlIGEgcmVsYXRpdmVseSB0aG9yb3VnaCBvdmVydmlldyBvZiBkYXRhIHNjaWVuY2U/', Tags='<education><open-source>', AnswerCount=3, CommentCount=4, FavoriteCount=1, CloseDate=datetime.datetime(2014, 5, 14, 8, 40, 54)),\n Row(Id=14, ParentId=None, PostTypeId=1, CreationDate=datetime.datetime(2014, 5, 14, 1, 25, 59), Score=25, ViewCount=1845, Body=None, OwnerUserId=66, LastActivityDate=datetime.datetime(2020, 8, 16, 13, 1, 33), Title='SXMgRGF0YSBTY2llbmNlIHRoZSBTYW1lIGFzIERhdGEgTWluaW5nPw==', Tags='<data-mining><definitions>', AnswerCount=4, CommentCount=1, FavoriteCount=6, CloseDate=None),\n Row(Id=15, ParentId=None, PostTypeId=1, CreationDate=datetime.datetime(2014, 5, 14, 1, 41, 23), Score=2, ViewCount=648, Body=None, OwnerUserId=64, LastActivityDate=datetime.datetime(2014, 5, 14, 1, 41, 23), Title='V2hhdCBhcmUgdGhlIGFkdmFudGFnZXMgYW5kIGRpc2FkdmFudGFnZXMgb2YgU1FMIHZlcnN1cyBOb1NRTCBpbiBkYXRhIHNjaWVuY2U/', Tags='<databases>', AnswerCount=0, CommentCount=1, FavoriteCount=0, CloseDate=datetime.datetime(2014, 5, 14, 7, 41, 49)),\n Row(Id=16, ParentId=None, PostTypeId=1, CreationDate=datetime.datetime(2014, 5, 14, 1, 57, 56), Score=17, ViewCount=409, Body=None, OwnerUserId=63, LastActivityDate=datetime.datetime(2014, 5, 17, 16, 24, 14), Title='VXNlIGxpYmxpbmVhciBvbiBiaWcgZGF0YSBmb3Igc2VtYW50aWMgYW5hbHlzaXM=', Tags='<machine-learning><bigdata><libsvm>', AnswerCount=2, CommentCount=0, FavoriteCount=0, CloseDate=None),\n Row(Id=19, ParentId=None, PostTypeId=1, CreationDate=datetime.datetime(2014, 5, 14, 3, 56, 20), Score=92, ViewCount=17315, Body=None, OwnerUserId=84, LastActivityDate=datetime.datetime(2018, 5, 1, 13, 4, 43), Title='SG93IGJpZyBpcyBiaWcgZGF0YT8=', Tags='<bigdata><scalability><efficiency><performance>', AnswerCount=12, CommentCount=5, FavoriteCount=26, CloseDate=None),\n Row(Id=20, ParentId=None, PostTypeId=1, CreationDate=datetime.datetime(2014, 5, 14, 5, 37, 46), Score=17, ViewCount=376, Body=None, OwnerUserId=96, LastActivityDate=datetime.datetime(2019, 9, 7, 18, 23, 57), Title='VGhlIGRhdGEgaW4gb3VyIHJlbGF0aW9uYWwgREJNUyBpcyBnZXR0aW5nIGJpZywgaXMgaXQgdGhlIHRpbWUgdG8gbW92ZSB0byBOb1NRTD8=', Tags='<nosql><relational-dbms>', AnswerCount=5, CommentCount=1, FavoriteCount=1, CloseDate=None),\n Row(Id=22, ParentId=None, PostTypeId=1, CreationDate=datetime.datetime(2014, 5, 14, 5, 58, 21), Score=179, ViewCount=237690, Body=None, OwnerUserId=97, LastActivityDate=datetime.datetime(2020, 8, 16, 10, 15, 51), Title='Sy1NZWFucyBjbHVzdGVyaW5nIGZvciBtaXhlZCBudW1lcmljIGFuZCBjYXRlZ29yaWNhbCBkYXRh', Tags='<data-mining><clustering><octave><k-means><categorical-data>', AnswerCount=13, CommentCount=3, FavoriteCount=128, CloseDate=None),\n Row(Id=31, ParentId=None, PostTypeId=1, CreationDate=datetime.datetime(2014, 5, 14, 8, 38, 7), Score=10, ViewCount=1676, Body=None, OwnerUserId=118, LastActivityDate=datetime.datetime(2014, 5, 15, 5, 49, 39), Title='Q2x1c3RlcmluZyBjdXN0b21lciBkYXRhIHN0b3JlZCBpbiBFbGFzdGljU2VhcmNo', Tags='<data-mining><clustering>', AnswerCount=1, CommentCount=4, FavoriteCount=1, CloseDate=None),\n Row(Id=35, ParentId=None, PostTypeId=1, CreationDate=datetime.datetime(2014, 5, 14, 9, 51, 54), Score=19, ViewCount=563, Body=None, OwnerUserId=26, LastActivityDate=datetime.datetime(2014, 5, 20, 3, 56, 43), Title='SG93IHRvIHNjYWxlIHVwIGFsZ29yaXRobSBkZXZlbG9wbWVudD8=', Tags='<algorithms>', AnswerCount=3, CommentCount=0, FavoriteCount=3, CloseDate=None),\n Row(Id=38, ParentId=None, PostTypeId=1, CreationDate=datetime.datetime(2014, 5, 14, 10, 44, 58), Score=15, ViewCount=3381, Body=None, OwnerUserId=134, LastActivityDate=datetime.datetime(2015, 5, 18, 12, 30, 19), Title='V2hhdCBpcyB0aGUgZGlmZmVyZW5jZSBiZXR3ZWVuIEhhZG9vcCBhbmQgbm9TUUw=', Tags='<nosql><tools><processing><apache-hadoop>', AnswerCount=2, CommentCount=2, FavoriteCount=2, CloseDate=None),\n Row(Id=41, ParentId=None, PostTypeId=1, CreationDate=datetime.datetime(2014, 5, 14, 11, 15, 40), Score=51, ViewCount=8605, Body=None, OwnerUserId=136, LastActivityDate=datetime.datetime(2019, 2, 23, 11, 34, 41), Title='SXMgdGhlIFIgbGFuZ3VhZ2Ugc3VpdGFibGUgZm9yIEJpZyBEYXRh', Tags='<bigdata><r>', AnswerCount=9, CommentCount=1, FavoriteCount=19, CloseDate=None),\n Row(Id=50, ParentId=None, PostTypeId=1, CreationDate=datetime.datetime(2014, 5, 14, 14, 26, 54), Score=5, ViewCount=646, Body=None, OwnerUserId=151, LastActivityDate=datetime.datetime(2014, 5, 14, 15, 42, 2), Title='UnVubmluZyBhbiBSIHNjcmlwdCBwcm9ncmFtbWF0aWNhbGx5', Tags='<r><databases><efficiency><tools>', AnswerCount=2, CommentCount=1, FavoriteCount=0, CloseDate=datetime.datetime(2017, 8, 29, 10, 27, 14)),\n Row(Id=52, ParentId=None, PostTypeId=1, CreationDate=datetime.datetime(2014, 5, 14, 15, 25, 21), Score=35, ViewCount=4426, Body=None, OwnerUserId=157, LastActivityDate=datetime.datetime(2017, 1, 23, 6, 27, 10), Title='T3JnYW5pemVkIHByb2Nlc3NlcyB0byBjbGVhbiBkYXRh', Tags='<r><data-cleaning>', AnswerCount=7, CommentCount=2, FavoriteCount=19, CloseDate=None),\n Row(Id=59, ParentId=None, PostTypeId=1, CreationDate=datetime.datetime(2014, 5, 14, 17, 48, 21), Score=10, ViewCount=1226, Body=None, OwnerUserId=158, LastActivityDate=datetime.datetime(2014, 7, 26, 15, 10, 51), Title='V2hhdCBhcmUgUidzIG1lbW9yeSBjb25zdHJhaW50cz8=', Tags='<apache-hadoop><r>', AnswerCount=3, CommentCount=1, FavoriteCount=1, CloseDate=None),\n Row(Id=61, ParentId=None, PostTypeId=1, CreationDate=datetime.datetime(2014, 5, 14, 18, 9, 1), Score=53, ViewCount=14043, Body=None, OwnerUserId=158, LastActivityDate=datetime.datetime(2017, 9, 17, 2, 27, 31), Title='V2h5IElzIE92ZXJmaXR0aW5nIEJhZCBpbiBNYWNoaW5lIExlYXJuaW5nPw==', Tags='<machine-learning><predictive-modeling>', AnswerCount=8, CommentCount=16, FavoriteCount=20, CloseDate=None),\n Row(Id=69, ParentId=None, PostTypeId=1, CreationDate=datetime.datetime(2014, 5, 14, 20, 3, 15), Score=3, ViewCount=86, Body=None, OwnerUserId=158, LastActivityDate=datetime.datetime(2014, 5, 15, 2, 2, 8), Title='SXMgaXQgcG9zc2libGUgdG8gYXV0b21hdGUgZ2VuZXJhdGluZyByZXByb2R1Y2liaWxpdHkgZG9jdW1lbnRhdGlvbj8=', Tags='<processing>', AnswerCount=1, CommentCount=2, FavoriteCount=0, CloseDate=None),\n Row(Id=71, ParentId=None, PostTypeId=1, CreationDate=datetime.datetime(2014, 5, 14, 22, 12, 37), Score=14, ViewCount=674, Body=None, OwnerUserId=179, LastActivityDate=datetime.datetime(2014, 5, 15, 8, 25, 47), Title='V2hlbiBhcmUgcC12YWx1ZXMgZGVjZXB0aXZlPw==', Tags='<bigdata><statistics>', AnswerCount=3, CommentCount=4, FavoriteCount=4, CloseDate=None),\n Row(Id=75, ParentId=None, PostTypeId=1, CreationDate=datetime.datetime(2014, 5, 15, 0, 26, 11), Score=4, ViewCount=153, Body=None, OwnerUserId=158, LastActivityDate=datetime.datetime(2019, 5, 7, 4, 16, 29), Title='SXMgdGhlcmUgYSByZXBsYWNlbWVudCBmb3Igc21hbGwgcC12YWx1ZXMgaW4gYmlnIGRhdGE/', Tags='<statistics><bigdata>', AnswerCount=2, CommentCount=0, FavoriteCount=1, CloseDate=None),\n Row(Id=76, ParentId=None, PostTypeId=1, CreationDate=datetime.datetime(2014, 5, 15, 0, 39, 33), Score=6, ViewCount=174, Body=None, OwnerUserId=158, LastActivityDate=datetime.datetime(2014, 5, 18, 15, 18, 8), Title='V2hpY2ggQmlnIERhdGEgdGVjaG5vbG9neSBzdGFjayBpcyBtb3N0IHN1aXRhYmxlIGZvciBwcm9jZXNzaW5nIHR3ZWV0cywgZXh0cmFjdGluZy9leHBhbmRpbmcgVVJMcyBhbmQgcHVzaGluZyAob25seSkgbmV3IGxpbmtzIGludG8gM3JkIHBhcnR5IHN5c3RlbT8=', Tags='<bigdata><tools><data-stream-mining>', AnswerCount=1, CommentCount=6, FavoriteCount=1, CloseDate=None),\n Row(Id=77, ParentId=None, PostTypeId=1, CreationDate=datetime.datetime(2014, 5, 15, 1, 22, 35), Score=10, ViewCount=1061, Body=None, OwnerUserId=158, LastActivityDate=datetime.datetime(2015, 5, 10, 21, 18, 1), Title='SXMgdGhpcyBOZW80aiBjb21wYXJpc29uIHRvIFJEQk1TIGV4ZWN1dGlvbiB0aW1lIGNvcnJlY3Q/', Tags='<databases><nosql><neo4j>', AnswerCount=2, CommentCount=0, FavoriteCount=1, CloseDate=None),\n Row(Id=81, ParentId=None, PostTypeId=1, CreationDate=datetime.datetime(2014, 5, 15, 4, 59, 54), Score=15, ViewCount=1052, Body=None, OwnerUserId=84, LastActivityDate=datetime.datetime(2014, 5, 18, 17, 38, 1), Title='UGFyYWxsZWwgYW5kIGRpc3RyaWJ1dGVkIGNvbXB1dGluZw==', Tags='<definitions><parallel><distributed>', AnswerCount=3, CommentCount=0, FavoriteCount=0, CloseDate=None),\n Row(Id=86, ParentId=None, PostTypeId=1, CreationDate=datetime.datetime(2014, 5, 15, 9, 4, 9), Score=15, ViewCount=2337, Body=None, OwnerUserId=116, LastActivityDate=datetime.datetime(2014, 5, 15, 21, 41, 22), Title='Q2x1c3RlcmluZyB1bmlxdWUgdmlzaXRvcnMgYnkgdXNlcmFnZW50LCBpcCwgc2Vzc2lvbl9pZA==', Tags='<clustering>', AnswerCount=2, CommentCount=0, FavoriteCount=3, CloseDate=None),\n Row(Id=89, ParentId=None, PostTypeId=1, CreationDate=datetime.datetime(2014, 5, 15, 11, 22, 27), Score=12, ViewCount=477, Body=None, OwnerUserId=189, LastActivityDate=datetime.datetime(2014, 8, 30, 18, 40, 2), Title='SG93IGRvZXMgYSBxdWVyeSBpbnRvIGEgaHVnZSBkYXRhYmFzZSByZXR1cm4gd2l0aCBuZWdsaWdpYmxlIGxhdGVuY3k/', Tags='<bigdata><google><search>', AnswerCount=3, CommentCount=0, FavoriteCount=0, CloseDate=None),\n Row(Id=94, ParentId=None, PostTypeId=1, CreationDate=datetime.datetime(2014, 5, 15, 14, 41, 24), Score=18, ViewCount=285, Body=None, OwnerUserId=84, LastActivityDate=datetime.datetime(2015, 11, 23, 15, 36, 28), Title='RG9lcyBjbGljayBmcmVxdWVuY3kgYWNjb3VudCBmb3IgcmVsZXZhbmNlPw==', Tags='<recommender-system><information-retrieval>', AnswerCount=3, CommentCount=0, FavoriteCount=2, CloseDate=None),\n Row(Id=102, ParentId=None, PostTypeId=1, CreationDate=datetime.datetime(2014, 5, 16, 5, 9, 33), Score=6, ViewCount=555, Body=None, OwnerUserId=199, LastActivityDate=datetime.datetime(2016, 12, 9, 21, 55, 46), Title='V2hhdCBpcyB0aGUgQmVzdCBOb1NRTCBiYWNrZW5kIGZvciBhIG1vYmlsZSBnYW1l', Tags='<nosql><performance>', AnswerCount=1, CommentCount=3, FavoriteCount=0, CloseDate=None),\n Row(Id=103, ParentId=None, PostTypeId=1, CreationDate=datetime.datetime(2014, 5, 16, 14, 26, 12), Score=20, ViewCount=7845, Body=None, OwnerUserId=113, LastActivityDate=datetime.datetime(2014, 6, 25, 15, 53, 30), Title='Q2x1c3RlcmluZyBiYXNlZCBvbiBzaW1pbGFyaXR5IHNjb3Jlcw==', Tags='<clustering><algorithms><similarity>', AnswerCount=4, CommentCount=8, FavoriteCount=3, CloseDate=None),\n Row(Id=107, ParentId=None, PostTypeId=1, CreationDate=datetime.datetime(2014, 5, 16, 20, 7, 50), Score=12, ViewCount=133, Body=None, OwnerUserId=200, LastActivityDate=datetime.datetime(2014, 5, 19, 7, 33, 50), Title='T3BlbnNvdXJjZSB0b29scyBmb3IgaGVscCBpbiBtaW5pbmcgc3RyZWFtIG9mIGxlYWRlciBib2FyZCBzY29yZXM=', Tags='<tools><data-stream-mining>', AnswerCount=2, CommentCount=0, FavoriteCount=0, CloseDate=None),\n Row(Id=113, ParentId=None, PostTypeId=1, CreationDate=datetime.datetime(2014, 5, 17, 4, 53, 3), Score=13, ViewCount=222, Body=None, OwnerUserId=199, LastActivityDate=datetime.datetime(2017, 6, 5, 19, 30, 23), Title='V2hlbiBhIHJlbGF0aW9uYWwgZGF0YWJhc2UgaGFzIGJldHRlciBwZXJmb3JtYW5jZSB0aGFuIGEgbm8gcmVsYXRpb25hbA==', Tags='<bigdata><performance><databases><nosql>', AnswerCount=1, CommentCount=2, FavoriteCount=0, CloseDate=None),\n Row(Id=115, ParentId=None, PostTypeId=1, CreationDate=datetime.datetime(2014, 5, 17, 8, 45, 8), Score=14, ViewCount=3204, Body=None, OwnerUserId=212, LastActivityDate=datetime.datetime(2021, 1, 25, 9, 43, 2), Title='SXMgdGhlcmUgYW55IEFQSXMgZm9yIGNyYXdsaW5nIGFic3RyYWN0IG9mIHBhcGVyPw==', Tags='<data-mining><machine-learning>', AnswerCount=2, CommentCount=5, FavoriteCount=3, CloseDate=None),\n Row(Id=116, ParentId=None, PostTypeId=1, CreationDate=datetime.datetime(2014, 5, 17, 9, 16, 18), Score=26, ViewCount=3066, Body=None, OwnerUserId=173, LastActivityDate=datetime.datetime(2021, 2, 9, 4, 31, 8), Title='TWFjaGluZSBsZWFybmluZyB0ZWNobmlxdWVzIGZvciBlc3RpbWF0aW5nIHVzZXJzJyBhZ2UgYmFzZWQgb24gRmFjZWJvb2sgc2l0ZXMgdGhleSBsaWtl', Tags='<machine-learning><dimensionality-reduction><python>', AnswerCount=6, CommentCount=3, FavoriteCount=12, CloseDate=None),\n Row(Id=125, ParentId=None, PostTypeId=1, CreationDate=datetime.datetime(2014, 5, 17, 21, 52, 34), Score=1, ViewCount=687, Body=None, OwnerUserId=None, LastActivityDate=datetime.datetime(2021, 3, 15, 21, 14, 8), Title='SG93IHRvIGxlYXJuIG5vU1FMIGRhdGFiYXNlcyBhbmQgaG93IHRvIGtub3cgd2hlbiBTUUwgb3Igbm9TUUwgaXMgYmV0dGVy', Tags='<nosql>', AnswerCount=2, CommentCount=0, FavoriteCount=0, CloseDate=datetime.datetime(2014, 5, 21, 14, 0, 22)),\n Row(Id=128, ParentId=None, PostTypeId=1, CreationDate=datetime.datetime(2014, 5, 18, 6, 10, 52), Score=58, ViewCount=26328, Body=None, OwnerUserId=122, LastActivityDate=datetime.datetime(2021, 2, 4, 9, 10, 56), Title='TGF0ZW50IERpcmljaGxldCBBbGxvY2F0aW9uIHZzIEhpZXJhcmNoaWNhbCBEaXJpY2hsZXQgUHJvY2Vzcw==', Tags='<nlp><topic-model><lda>', AnswerCount=6, CommentCount=1, FavoriteCount=24, CloseDate=None),\n Row(Id=129, ParentId=None, PostTypeId=1, CreationDate=datetime.datetime(2014, 5, 18, 6, 17, 37), Score=10, ViewCount=1467, Body=None, OwnerUserId=122, LastActivityDate=datetime.datetime(2014, 5, 19, 11, 13, 48), Title='V2hhdCBpcyBnZW5lcmF0aXZlIGFuZCBkaXNjcmltaW5hdGl2ZSBtb2RlbD8gSG93IGFyZSB0aGV5IHVzZWQgaW4gTmF0dXJhbCBMYW5ndWFnZSBQcm9jZXNzaW5nPw==', Tags='<nlp><language-model>', AnswerCount=1, CommentCount=1, FavoriteCount=0, CloseDate=None),\n Row(Id=130, ParentId=None, PostTypeId=1, CreationDate=datetime.datetime(2014, 5, 18, 6, 26, 15), Score=68, ViewCount=36219, Body=None, OwnerUserId=122, LastActivityDate=datetime.datetime(2021, 2, 7, 20, 32, 33), Title='V2hhdCBpcyBkaW1lbnNpb25hbGl0eSByZWR1Y3Rpb24/IFdoYXQgaXMgdGhlIGRpZmZlcmVuY2UgYmV0d2VlbiBmZWF0dXJlIHNlbGVjdGlvbiBhbmQgZXh0cmFjdGlvbj8=', Tags='<feature-selection><feature-extraction><dimensionality-reduction>', AnswerCount=11, CommentCount=0, FavoriteCount=33, CloseDate=None),\n Row(Id=134, ParentId=None, PostTypeId=1, CreationDate=datetime.datetime(2014, 5, 18, 12, 3, 21), Score=11, ViewCount=691, Body=None, OwnerUserId=227, LastActivityDate=datetime.datetime(2014, 6, 10, 2, 42, 2), Title='Q2FuIG1hcC1yZWR1Y2UgYWxnb3JpdGhtcyB3cml0dGVuIGZvciBNb25nb0RCIGJlIHBvcnRlZCB0byBIYWRvb3AgbGF0ZXI/', Tags='<scalability><apache-hadoop><map-reduce><mongodb>', AnswerCount=3, CommentCount=1, FavoriteCount=1, CloseDate=None),\n Row(Id=138, ParentId=None, PostTypeId=1, CreationDate=datetime.datetime(2014, 5, 18, 14, 2, 51), Score=10, ViewCount=211, Body=None, OwnerUserId=84, LastActivityDate=datetime.datetime(2014, 6, 10, 5, 57, 13), Title='V2h5IGlzIGl0IGhhcmQgdG8gZ3JhbnQgZWZmaWNpZW5jeSB3aGlsZSB1c2luZyBsaWJyYXJpZXM/', Tags='<bigdata><efficiency><performance>', AnswerCount=4, CommentCount=2, FavoriteCount=0, CloseDate=None),\n Row(Id=143, ParentId=None, PostTypeId=1, CreationDate=datetime.datetime(2014, 5, 18, 14, 37, 20), Score=10, ViewCount=896, Body=None, OwnerUserId=229, LastActivityDate=datetime.datetime(2014, 5, 19, 12, 5, 13), Title='V2hhdCBpcyB0aGUgbW9zdCBlZmZpY2llbnQgZGF0YSBpbmRleGluZyB0ZWNobmlxdWU=', Tags='<nosql><efficiency><indexing><data-indexing-techniques><.net>', AnswerCount=1, CommentCount=0, FavoriteCount=0, CloseDate=None),\n Row(Id=155, ParentId=None, PostTypeId=1, CreationDate=datetime.datetime(2014, 5, 18, 18, 45, 38), Score=193, ViewCount=30759, Body=None, OwnerUserId=227, LastActivityDate=datetime.datetime(2019, 2, 27, 9, 55, 23), Title='UHVibGljbHkgQXZhaWxhYmxlIERhdGFzZXRz', Tags='<open-source><dataset>', AnswerCount=35, CommentCount=9, FavoriteCount=193, CloseDate=None),\n Row(Id=159, ParentId=None, PostTypeId=1, CreationDate=datetime.datetime(2014, 5, 18, 19, 46, 44), Score=6, ViewCount=535, Body=None, OwnerUserId=199, LastActivityDate=datetime.datetime(2014, 5, 18, 21, 5, 28), Title='SXMgRGF0YSBTY2llbmNlIGp1c3QgYSB0cmVuZCBvciBpcyBhIGxvbmcgdGVybSBjb25jZXB0Pw==', Tags='<bigdata><machine-learning><databases><statistics><education>', AnswerCount=1, CommentCount=3, FavoriteCount=1, CloseDate=datetime.datetime(2014, 5, 19, 8, 54, 23)),\n Row(Id=169, ParentId=None, PostTypeId=1, CreationDate=datetime.datetime(2014, 5, 19, 15, 55, 24), Score=15, ViewCount=4869, Body=None, OwnerUserId=113, LastActivityDate=datetime.datetime(2021, 3, 11, 20, 12, 24), Title='SG93IHRvIHNwZWNpZnkgaW1wb3J0YW50IGF0dHJpYnV0ZXM/', Tags='<machine-learning><statistics><feature-selection>', AnswerCount=4, CommentCount=0, FavoriteCount=5, CloseDate=None),\n Row(Id=172, ParentId=None, PostTypeId=1, CreationDate=datetime.datetime(2014, 5, 19, 23, 59, 58), Score=26, ViewCount=16068, Body=None, OwnerUserId=250, LastActivityDate=datetime.datetime(2020, 8, 2, 12, 40, 19), Title='SXMgdGhlcmUgYSBzdHJhaWdodGZvcndhcmQgd2F5IHRvIHJ1biBwYW5kYXMuRGF0YUZyYW1lLmlzaW4gaW4gcGFyYWxsZWw/', Tags='<performance><python><pandas><parallel>', AnswerCount=4, CommentCount=3, FavoriteCount=6, CloseDate=None),\n Row(Id=175, ParentId=None, PostTypeId=1, CreationDate=datetime.datetime(2014, 5, 20, 22, 14, 2), Score=3, ViewCount=58, Body=None, OwnerUserId=249, LastActivityDate=datetime.datetime(2014, 5, 21, 7, 19, 32), Title='Q2FuIG1ldGFkYXRhIGJlIHVzZWQgdG8gYWRhcHQgcGFyc2luZyBmb3IgYW4gdW5lc2NhcGVkIGluIGZpZWxkIHVzZSBvZiB0aGUgZGVsaW1pdGVyPw==', Tags='<metadata><parsing>', AnswerCount=1, CommentCount=4, FavoriteCount=0, CloseDate=None),\n Row(Id=176, ParentId=None, PostTypeId=1, CreationDate=datetime.datetime(2014, 5, 21, 5, 29, 36), Score=12, ViewCount=4260, Body=None, OwnerUserId=173, LastActivityDate=datetime.datetime(2014, 5, 22, 12, 14, 49), Title='SG93IHRvIGFuaW1hdGUgZ3Jvd3RoIG9mIGEgc29jaWFsIG5ldHdvcms/', Tags='<social-network-analysis><time-series><javascript><visualization>', AnswerCount=3, CommentCount=0, FavoriteCount=5, CloseDate=None),\n Row(Id=184, ParentId=None, PostTypeId=1, CreationDate=datetime.datetime(2014, 5, 21, 11, 22, 34), Score=9, ViewCount=511, Body=None, OwnerUserId=200, LastActivityDate=datetime.datetime(2014, 6, 10, 4, 47, 13), Title='R29vZ2xlIHByZWRpY3Rpb24gQVBJOiBXaGF0IHRyYWluaW5nL3ByZWRpY3Rpb24gbWV0aG9kcyBHb29nbGUgUHJlZGljdGlvbiBBUEkgZW1wbG95cz8=', Tags='<tools>', AnswerCount=3, CommentCount=0, FavoriteCount=0, CloseDate=None),\n Row(Id=186, ParentId=None, PostTypeId=1, CreationDate=datetime.datetime(2014, 5, 21, 15, 12, 18), Score=9, ViewCount=311, Body=None, OwnerUserId=133, LastActivityDate=datetime.datetime(2014, 5, 21, 15, 39, 54), Title='VXNpbmcgU1ZNIGFzIGEgYmluYXJ5IGNsYXNzaWZpZXIsIGlzIHRoZSBsYWJlbCBmb3IgYSBkYXRhIHBvaW50IGNob3NlbiBieSBjb25zZW5zdXM/', Tags='<svm><classification><binary>', AnswerCount=1, CommentCount=0, FavoriteCount=1, CloseDate=None),\n Row(Id=189, ParentId=None, PostTypeId=1, CreationDate=datetime.datetime(2014, 5, 21, 19, 41, 19), Score=4, ViewCount=975, Body=None, OwnerUserId=151, LastActivityDate=datetime.datetime(2014, 6, 17, 16, 18, 2), Title='T3BlbiBzb3VyY2Ugc29sdmVyIGZvciBsYXJnZSBtaXhlZCBpbnRlZ2VyIHByb2dyYW1taW5nIHRhc2s/', Tags='<r><open-source><parallel><optimization>', AnswerCount=1, CommentCount=1, FavoriteCount=0, CloseDate=None),\n Row(Id=191, ParentId=None, PostTypeId=1, CreationDate=datetime.datetime(2014, 5, 22, 13, 36, 24), Score=8, ViewCount=1075, Body=None, OwnerUserId=273, LastActivityDate=datetime.datetime(2014, 6, 10, 8, 38, 27), Title='TXVsdGkgbGF5ZXIgYmFjayBwcm9wYWdhdGlvbiBOZXVyYWwgbmV0d29yayBmb3IgY2xhc3NpZmljYXRpb24=', Tags='<neural-network>', AnswerCount=2, CommentCount=2, FavoriteCount=1, CloseDate=None),\n Row(Id=192, ParentId=None, PostTypeId=1, CreationDate=datetime.datetime(2014, 5, 22, 15, 15, 41), Score=8, ViewCount=498, Body=None, OwnerUserId=88, LastActivityDate=datetime.datetime(2014, 5, 23, 6, 3, 40), Title='V2hhdCBhcmUgdGhlIG1vc3QgcG9wdWxhciBkYXRhIHNjaWVuY2UgYXBwbGljYXRpb24gdXNlIGNhc2VzIGZvciBjb25zdW1lciB3ZWIgY29tcGFuaWVz', Tags='<usecase><consumerweb>', AnswerCount=3, CommentCount=0, FavoriteCount=1, CloseDate=None),\n Row(Id=196, ParentId=None, PostTypeId=1, CreationDate=datetime.datetime(2014, 5, 22, 21, 47, 26), Score=13, ViewCount=7062, Body=None, OwnerUserId=275, LastActivityDate=datetime.datetime(2020, 8, 6, 11, 4, 9), Title='QWxnb3JpdGhtIGZvciBnZW5lcmF0aW5nIGNsYXNzaWZpY2F0aW9uIHJ1bGVz', Tags='<machine-learning><classification>', AnswerCount=4, CommentCount=0, FavoriteCount=2, CloseDate=None),\n Row(Id=199, ParentId=None, PostTypeId=1, CreationDate=datetime.datetime(2014, 5, 23, 6, 25, 50), Score=22, ViewCount=28277, Body=None, OwnerUserId=122, LastActivityDate=datetime.datetime(2017, 6, 12, 12, 17, 59), Title='V2hhdCBkb2VzIHRoZSBhbHBoYSBhbmQgYmV0YSBoeXBlcnBhcmFtZXRlcnMgY29udHJpYnV0ZSB0byBpbiBMYXRlbnQgRGlyaWNobGV0IGFsbG9jYXRpb24/', Tags='<topic-model><lda><parameter>', AnswerCount=2, CommentCount=2, FavoriteCount=13, CloseDate=None),\n Row(Id=205, ParentId=None, PostTypeId=1, CreationDate=datetime.datetime(2014, 5, 23, 19, 45, 54), Score=12, ViewCount=1550, Body=None, OwnerUserId=250, LastActivityDate=datetime.datetime(2017, 2, 19, 9, 12, 49), Title='SW5zdGFuY2VzIHZzLiBjb3JlcyB3aGVuIHVzaW5nIEVDMg==', Tags='<parallel><clustering><aws>', AnswerCount=3, CommentCount=0, FavoriteCount=1, CloseDate=None),\n Row(Id=209, ParentId=None, PostTypeId=1, CreationDate=datetime.datetime(2014, 5, 25, 13, 57, 52), Score=10, ViewCount=1340, Body=None, OwnerUserId=71, LastActivityDate=datetime.datetime(2014, 5, 27, 10, 58), Title='SG93IHNob3VsZCBvbmUgZGVhbCB3aXRoIGltcGxpY2l0IGRhdGEgaW4gcmVjb21tZW5kYXRpb24=', Tags='<recommender-system>', AnswerCount=1, CommentCount=2, FavoriteCount=3, CloseDate=None),\n Row(Id=211, ParentId=None, PostTypeId=1, CreationDate=datetime.datetime(2014, 5, 27, 10, 41, 33), Score=9, ViewCount=4529, Body=None, OwnerUserId=295, LastActivityDate=datetime.datetime(2020, 8, 17, 3, 25, 3), Title='SHVtYW4gYWN0aXZpdHkgcmVjb2duaXRpb24gdXNpbmcgc21hcnRwaG9uZSBkYXRhIHNldCBwcm9ibGVt', Tags='<bigdata><machine-learning><databases><clustering><data-mining>', AnswerCount=3, CommentCount=0, FavoriteCount=2, CloseDate=None),\n Row(Id=215, ParentId=None, PostTypeId=1, CreationDate=datetime.datetime(2014, 5, 27, 21, 7, 48), Score=16, ViewCount=1000, Body=None, OwnerUserId=250, LastActivityDate=datetime.datetime(2014, 6, 11, 11, 32, 13), Title='V2hlcmUgaW4gdGhlIHdvcmtmbG93IHNob3VsZCB3ZSBkZWFsIHdpdGggbWlzc2luZyBkYXRhPw==', Tags='<machine-learning><python><pandas><scikit-learn>', AnswerCount=2, CommentCount=0, FavoriteCount=4, CloseDate=None),\n Row(Id=218, ParentId=None, PostTypeId=1, CreationDate=datetime.datetime(2014, 5, 29, 13, 8, 9), Score=3, ViewCount=1593, Body=None, OwnerUserId=273, LastActivityDate=datetime.datetime(2014, 5, 29, 14, 31, 51), Title='YnVpbHQtaW4gY292IGluIHBhbmRhcyBEYXRhRnJhbWUgcmVzdWx0cyBWYWx1ZUVycm9yIGFycmF5IGlzIHRvbyBiaWc=', Tags='<python><pandas>', AnswerCount=2, CommentCount=1, FavoriteCount=0, CloseDate=datetime.datetime(2014, 8, 8, 12, 26, 12)),\n Row(Id=223, ParentId=None, PostTypeId=1, CreationDate=datetime.datetime(2014, 5, 29, 20, 11, 16), Score=21, ViewCount=3351, Body=None, OwnerUserId=227, LastActivityDate=datetime.datetime(2020, 7, 2, 13, 4), Title='SG93IHRvIGFubm90YXRlIHRleHQgZG9jdW1lbnRzIHdpdGggbWV0YS1kYXRhPw==', Tags='<nlp><metadata><data-cleaning><text-mining>', AnswerCount=5, CommentCount=5, FavoriteCount=4, CloseDate=None),\n Row(Id=224, ParentId=None, PostTypeId=1, CreationDate=datetime.datetime(2014, 5, 31, 14, 28, 42), Score=4, ViewCount=286, Body=None, OwnerUserId=122, LastActivityDate=datetime.datetime(2018, 5, 6, 22, 11, 50), Title='SG93IHRvIGdldCBwaHJhc2UgdGFibGVzIGZyb20gd29yZCBhbGlnbm1lbnRzPw==', Tags='<machine-translation>', AnswerCount=2, CommentCount=2, FavoriteCount=1, CloseDate=None),\n Row(Id=227, ParentId=None, PostTypeId=1, CreationDate=datetime.datetime(2014, 6, 1, 10, 25, 51), Score=12, ViewCount=7055, Body=None, OwnerUserId=339, LastActivityDate=datetime.datetime(2014, 6, 10, 23, 33, 28), Title='VHJhZGVvZmZzIGJldHdlZW4gU3Rvcm0gYW5kIEhhZG9vcCAoTWFwUmVkdWNlKQ==', Tags='<bigdata><efficiency><apache-hadoop><distributed>', AnswerCount=2, CommentCount=0, FavoriteCount=3, CloseDate=None),\n Row(Id=228, ParentId=None, PostTypeId=1, CreationDate=datetime.datetime(2014, 6, 1, 12, 51, 25), Score=8, ViewCount=71, Body=None, OwnerUserId=339, LastActivityDate=datetime.datetime(2014, 6, 10, 3, 42, 51), Title='Q2FzY2FkZWQgRXJyb3IgaW4gQXBhY2hlIFN0b3Jt', Tags='<bigdata><apache-hadoop>', AnswerCount=1, CommentCount=0, FavoriteCount=0, CloseDate=None),\n Row(Id=231, ParentId=None, PostTypeId=1, CreationDate=datetime.datetime(2014, 6, 5, 9, 0, 27), Score=9, ViewCount=4814, Body=None, OwnerUserId=133, LastActivityDate=datetime.datetime(2014, 6, 11, 9, 39, 34), Title='SG93IHRvIGdldCBhbiBhZ2dyZWdhdGUgY29uZnVzaW9uIG1hdHJpeCBmcm9tIG4gZGlmZmVyZW50IGNsYXNzaWZpY2F0aW9ucw==', Tags='<classification><confusion-matrix><accuracy>', AnswerCount=2, CommentCount=0, FavoriteCoun\n\n*** WARNING: max output size exceeded, skipping output. ***\n\ntId=None, PostTypeId=1, CreationDate=datetime.datetime(2015, 6, 8, 19, 50, 16), Score=1, ViewCount=383, Body=None, OwnerUserId=9988, LastActivityDate=datetime.datetime(2015, 6, 8, 21, 40, 20), Title='V2hhdCBpcyBhIFhNTCBkYXRhc2V0Pw==', Tags='<data-mining>', AnswerCount=1, CommentCount=0, FavoriteCount=0, CloseDate=None),\n Row(Id=6048, ParentId=None, PostTypeId=1, CreationDate=datetime.datetime(2015, 6, 9, 9, 37, 11), Score=16, ViewCount=44050, Body=None, OwnerUserId=9793, LastActivityDate=datetime.datetime(2020, 7, 11, 16, 23, 13), Title='U2hvdWxkIEkgdXNlIGEgZGVjaXNpb24gdHJlZSBvciBsb2dpc3RpYyByZWdyZXNzaW9uIGZvciBjbGFzc2lmaWNhdGlvbj8=', Tags='<classification><logistic-regression><decision-trees>', AnswerCount=4, CommentCount=2, FavoriteCount=8, CloseDate=None),\n Row(Id=6050, ParentId=None, PostTypeId=1, CreationDate=datetime.datetime(2015, 6, 9, 10, 34, 14), Score=0, ViewCount=165, Body=None, OwnerUserId=8338, LastActivityDate=datetime.datetime(2015, 6, 11, 6, 19, 51), Title='RW5jb2RpbmcgZm9yIGstbGV2ZWwgcXVhbGl0YXRhdGl2ZSB2YXJpYWJsZQ==', Tags='<feature-extraction>', AnswerCount=2, CommentCount=7, FavoriteCount=0, CloseDate=None),\n Row(Id=6051, ParentId=None, PostTypeId=1, CreationDate=datetime.datetime(2015, 6, 9, 11, 27, 38), Score=2, ViewCount=1298, Body=None, OwnerUserId=9988, LastActivityDate=datetime.datetime(2017, 12, 17, 20, 8, 11), Title='RG8gSSBuZWVkIGFuIEFydGlmaWNpYWwgSW50ZWxsaWdlbmNlIEFQST8=', Tags='<machine-learning><java>', AnswerCount=2, CommentCount=1, FavoriteCount=0, CloseDate=None),\n Row(Id=6052, ParentId=None, PostTypeId=1, CreationDate=datetime.datetime(2015, 6, 9, 13, 49, 57), Score=4, ViewCount=1351, Body=None, OwnerUserId=8878, LastActivityDate=datetime.datetime(2017, 4, 20, 21, 43, 35), Title='SG93IHRvIHJlY29nbml6ZSBhIHR3byBwYXJ0IHRlcm0gd2hlbiB0aGUgc3BhY2UgaXMgcmVtb3ZlZD8gKCJiaWdkYXRhIiBhbmQgImJpZyBkYXRhIik=', Tags='<python><nlp><text-mining>', AnswerCount=3, CommentCount=0, FavoriteCount=3, CloseDate=None),\n Row(Id=6054, ParentId=None, PostTypeId=1, CreationDate=datetime.datetime(2015, 6, 9, 14, 39, 4), Score=17, ViewCount=10623, Body=None, OwnerUserId=8073, LastActivityDate=datetime.datetime(2019, 4, 15, 1, 58, 12), Title='SW4gU1ZNIEFsZ29yaXRobSwgd2h5IHZlY3RvciB3IGlzIG9ydGhvZ29uYWwgdG8gdGhlIHNlcGFyYXRpbmcgaHlwZXJwbGFuZT8=', Tags='<machine-learning><svm>', AnswerCount=4, CommentCount=3, FavoriteCount=4, CloseDate=None),\n Row(Id=6064, ParentId=None, PostTypeId=1, CreationDate=datetime.datetime(2015, 6, 10, 4, 57, 2), Score=5, ViewCount=282, Body=None, OwnerUserId=9663, LastActivityDate=datetime.datetime(2016, 6, 17, 12, 40, 38), Title='TXVsdGl2YXJpYXRlIC0gVGltZSBzZXJpZXMgZGF0YSBwYXR0ZXJuIGNoYW5nZXM=', Tags='<r><time-series>', AnswerCount=1, CommentCount=2, FavoriteCount=2, CloseDate=None),\n Row(Id=6066, ParentId=None, PostTypeId=1, CreationDate=datetime.datetime(2015, 6, 10, 11, 33, 17), Score=3, ViewCount=711, Body=None, OwnerUserId=6514, LastActivityDate=datetime.datetime(2015, 6, 11, 10, 12, 14), Title='VGV4dCBjbGFzc2lmaWNhdGlvbjogQ2hvb3NpbmcgdHJhaW5pbmcgYW5kIHRlc3Rpbmcgc2V0IGZvciBlYWNoIGNhdGVnb3J5', Tags='<machine-learning><classification><text-mining>', AnswerCount=1, CommentCount=0, FavoriteCount=0, CloseDate=None),\n Row(Id=6068, ParentId=None, PostTypeId=1, CreationDate=datetime.datetime(2015, 6, 10, 13, 16, 17), Score=-1, ViewCount=492, Body=None, OwnerUserId=10085, LastActivityDate=datetime.datetime(2019, 6, 8, 13, 50, 4), Title='SG93IGNhbiBhbiB1bmRlcmdyYWR1YXRlIGxlYXJuIG1vcmUgYWJvdXQgZGVlcCBsZWFybmluZz8=', Tags='<machine-learning><deep-learning><research>', AnswerCount=2, CommentCount=3, FavoriteCount=2, CloseDate=datetime.datetime(2019, 6, 8, 13, 50, 12)),\n Row(Id=6069, ParentId=None, PostTypeId=1, CreationDate=datetime.datetime(2015, 6, 10, 14, 25, 5), Score=1, ViewCount=33, Body=None, OwnerUserId=10083, LastActivityDate=datetime.datetime(2015, 6, 10, 14, 25, 5), Title='UmVhcmFuZ2UgaW5wdXQgZGF0YSAtIHVua25vd24gc2l6ZSBvZiBpbnB1dA==', Tags='<neural-network>', AnswerCount=0, CommentCount=0, FavoriteCount=1, CloseDate=None),\n Row(Id=6070, ParentId=None, PostTypeId=1, CreationDate=datetime.datetime(2015, 6, 10, 17, 27, 5), Score=5, ViewCount=844, Body=None, OwnerUserId=7966, LastActivityDate=datetime.datetime(2015, 11, 19, 12, 32, 59), Title='U3RhdGlzdGljYWwgZGlzdGFuY2VzIGZvciB0aW1lIHNlcmllcyBvZiBkaXN0cmlidXRpb25z', Tags='<clustering><time-series><distance>', AnswerCount=2, CommentCount=6, FavoriteCount=3, CloseDate=None),\n Row(Id=6076, ParentId=None, PostTypeId=1, CreationDate=datetime.datetime(2015, 6, 10, 20, 39, 15), Score=3, ViewCount=561, Body=None, OwnerUserId=3044, LastActivityDate=datetime.datetime(2015, 7, 11, 22, 19, 12), Title='TW9zdCBpbXBvcnRhbnQgcGFydCBvZiBmZWF0dXJlIHN0YW5kYXJkaXphdGlvbiBhbmQgaG93IGlzIHN0YW5kYXJkaXphdGlvbiBhZmZlY3RlZCBieSBzcGFyc2l0eT8=', Tags='<machine-learning><feature-scaling>', AnswerCount=1, CommentCount=0, FavoriteCount=1, CloseDate=None),\n Row(Id=6078, ParentId=None, PostTypeId=1, CreationDate=datetime.datetime(2015, 6, 11, 6, 20, 43), Score=4, ViewCount=378, Body=None, OwnerUserId=10100, LastActivityDate=datetime.datetime(2016, 2, 24, 5, 3, 29), Title='VG9waWMgbW9kZWxzIGZvciBSZWxldmFuY2UgUHJlZGljdGlvbg==', Tags='<text-mining><topic-model>', AnswerCount=2, CommentCount=1, FavoriteCount=0, CloseDate=None),\n Row(Id=6080, ParentId=None, PostTypeId=1, CreationDate=datetime.datetime(2015, 6, 11, 7, 53, 26), Score=4, ViewCount=92, Body=None, OwnerUserId=7966, LastActivityDate=datetime.datetime(2015, 6, 19, 7, 30, 4), Title='bWV0cmljIGxlYXJuaW5nIGFuZCBpbmZvcm1hdGlvbiByZXRyaWV2YWw=', Tags='<text-mining><information-retrieval>', AnswerCount=1, CommentCount=0, FavoriteCount=0, CloseDate=None),\n Row(Id=6082, ParentId=None, PostTypeId=1, CreationDate=datetime.datetime(2015, 6, 11, 15, 40, 45), Score=8, ViewCount=2383, Body=None, OwnerUserId=3151, LastActivityDate=datetime.datetime(2015, 6, 16, 18, 41, 10), Title='dmlzdWFsaXplIGEgaG9yaXpvbnRhbCBib3ggcGxvdCBpbiBS', Tags='<r><visualization>', AnswerCount=2, CommentCount=0, FavoriteCount=0, CloseDate=None),\n Row(Id=6084, ParentId=None, PostTypeId=1, CreationDate=datetime.datetime(2015, 6, 11, 16, 58, 53), Score=20, ViewCount=24317, Body=None, OwnerUserId=10114, LastActivityDate=datetime.datetime(2020, 5, 15, 21, 38, 53), Title='SG93IGRvIEkgY3JlYXRlIGEgY29tcGxleCBSYWRhciBDaGFydD8=', Tags='<visualization>', AnswerCount=3, CommentCount=4, FavoriteCount=18, CloseDate=None),\n Row(Id=6086, ParentId=None, PostTypeId=1, CreationDate=datetime.datetime(2015, 6, 11, 21, 21, 55), Score=12, ViewCount=2016, Body=None, OwnerUserId=1242, LastActivityDate=datetime.datetime(2016, 2, 1, 14, 29, 25), Title='TWluSGFzaGluZyB2cyBTaW1IYXNoaW5n', Tags='<clustering><similarity>', AnswerCount=1, CommentCount=0, FavoriteCount=3, CloseDate=None),\n Row(Id=6088, ParentId=None, PostTypeId=1, CreationDate=datetime.datetime(2015, 6, 12, 0, 35, 25), Score=7, ViewCount=1055, Body=None, OwnerUserId=10123, LastActivityDate=datetime.datetime(2015, 12, 9, 16, 3, 33), Title='VHJhaW5pbmcgYW5kIHRlc3RpbmcgQWRhQm9vc3QgZm9yIGxvdyBwcm9iYWJpbGl0eSBjbGFzc2lmaWNhdGlvbg==', Tags='<classification><class-imbalance>', AnswerCount=4, CommentCount=5, FavoriteCount=0, CloseDate=None),\n Row(Id=6089, ParentId=None, PostTypeId=1, CreationDate=datetime.datetime(2015, 6, 12, 2, 11, 51), Score=3, ViewCount=52, Body=None, OwnerUserId=9728, LastActivityDate=datetime.datetime(2015, 6, 12, 6, 46, 5), Title='SG93IHRvIGZpdCBhbiBvZGQgcmVsYXRpb25zaGlwIHdpdGggYSBmdW5jdGlvbj8=', Tags='<statistics><predictive-modeling><regression>', AnswerCount=1, CommentCount=0, FavoriteCount=0, CloseDate=None),\n Row(Id=6092, ParentId=None, PostTypeId=1, CreationDate=datetime.datetime(2015, 6, 12, 10, 25, 12), Score=0, ViewCount=1849, Body=None, OwnerUserId=10127, LastActivityDate=datetime.datetime(2017, 12, 7, 17, 1, 59), Title='SG93IHRvIGdlbmVyYXRlIHJhdGluZ3Mgd2l0aG91dCB0cmFpbmluZyBkYXRhPw==', Tags='<machine-learning><dataset><cross-validation><reinforcement-learning>', AnswerCount=1, CommentCount=2, FavoriteCount=1, CloseDate=None),\n Row(Id=6097, ParentId=None, PostTypeId=1, CreationDate=datetime.datetime(2015, 6, 12, 13, 20, 15), Score=1, ViewCount=35, Body=None, OwnerUserId=9793, LastActivityDate=datetime.datetime(2015, 6, 12, 13, 20, 15), Title='SG93IHRvIGV4dHJhY3QgdGhlIHZhbHVlcyB1c2VkIGluIGNvbHVtbnMgYnkgYSBDbGFzc2lmaWNhdGlvbiBtb2RlbCBpbiBSPw==', Tags='<machine-learning><classification><r>', AnswerCount=0, CommentCount=0, FavoriteCount=1, CloseDate=None),\n Row(Id=6098, ParentId=None, PostTypeId=1, CreationDate=datetime.datetime(2015, 6, 12, 13, 39, 15), Score=5, ViewCount=191, Body=None, OwnerUserId=10131, LastActivityDate=datetime.datetime(2016, 4, 16, 15, 54, 10), Title='aG93IGNhbiBJIGdlbmVyYXRlIGEgQmVybm91bGxpIGJsb2NrIG1peHR1cmUgbW9kZWwgaW4gbWF0bGFiPw==', Tags='<machine-learning><clustering><matlab><binary>', AnswerCount=1, CommentCount=3, FavoriteCount=0, CloseDate=None),\n Row(Id=6099, ParentId=None, PostTypeId=1, CreationDate=datetime.datetime(2015, 6, 12, 14, 31, 49), Score=0, ViewCount=722, Body=None, OwnerUserId=7966, LastActivityDate=datetime.datetime(2015, 6, 16, 9, 28, 2), Title='U2FtcGxpbmcgZnJvbSBhIG11bHRpdmFyaWF0ZSB2b24gTWlzZXMtRmlzaGVyIGRpc3RyaWJ1dGlvbiBpbiBQeXRob24=', Tags='<python><distributed><sampling>', AnswerCount=2, CommentCount=3, FavoriteCount=0, CloseDate=None),\n Row(Id=6100, ParentId=None, PostTypeId=1, CreationDate=datetime.datetime(2015, 6, 12, 15, 11, 33), Score=3, ViewCount=452, Body=None, OwnerUserId=5211, LastActivityDate=datetime.datetime(2015, 6, 12, 15, 11, 33), Title='Q29tcGxldGUgYSBIdW5nYXJpYW4gc3RlbSB0byBhIHJlYWwgd29yZA==', Tags='<python><nlp>', AnswerCount=0, CommentCount=3, FavoriteCount=0, CloseDate=None),\n Row(Id=6101, ParentId=None, PostTypeId=1, CreationDate=datetime.datetime(2015, 6, 12, 18, 33, 57), Score=4, ViewCount=192, Body=None, OwnerUserId=10138, LastActivityDate=datetime.datetime(2018, 12, 22, 1, 7, 12), Title='UHJpY2Ugb3B0aW1pemF0aW9uIGZvciB0aWVyZWQgYW5kIHNlYXNvbmFsIHByb2R1Y3Rz', Tags='<recommender-system>', AnswerCount=2, CommentCount=1, FavoriteCount=1, CloseDate=None),\n Row(Id=6103, ParentId=None, PostTypeId=1, CreationDate=datetime.datetime(2015, 6, 12, 20, 55, 33), Score=4, ViewCount=611, Body=None, OwnerUserId=10141, LastActivityDate=datetime.datetime(2019, 12, 26, 15, 1, 40), Title='QVdTIG1hY2hpbmUgbGVhcm5pbmcgcHJlZGljdGlvbiBzY2hlbWEgcHJvYmxlbXM=', Tags='<machine-learning><aws>', AnswerCount=2, CommentCount=0, FavoriteCount=1, CloseDate=None),\n Row(Id=6107, ParentId=None, PostTypeId=1, CreationDate=datetime.datetime(2015, 6, 13, 9, 56, 45), Score=258, ViewCount=233592, Body=None, OwnerUserId=8820, LastActivityDate=datetime.datetime(2020, 8, 5, 7, 30, 46), Title='V2hhdCBhcmUgZGVjb252b2x1dGlvbmFsIGxheWVycz8=', Tags='<neural-network><convnet><convolution>', AnswerCount=11, CommentCount=6, FavoriteCount=170, CloseDate=None),\n Row(Id=6108, ParentId=None, PostTypeId=1, CreationDate=datetime.datetime(2015, 6, 13, 10, 19, 56), Score=2, ViewCount=1168, Body=None, OwnerUserId=9167, LastActivityDate=datetime.datetime(2015, 6, 13, 10, 19, 56), Title='Q2FmZmUgbmV0LnByZWRpY3QoKSBvdXRwdXRzIHJhbmRvbSByZXN1bHRzIChHb29nbGVOZXQp', Tags='<machine-learning><python><deep-learning><image-classification>', AnswerCount=0, CommentCount=0, FavoriteCount=1, CloseDate=None),\n Row(Id=6110, ParentId=None, PostTypeId=1, CreationDate=datetime.datetime(2015, 6, 13, 18, 36, 49), Score=9, ViewCount=450, Body=None, OwnerUserId=9766, LastActivityDate=datetime.datetime(2015, 6, 15, 6, 23, 32), Title='UmVsYXRpb25zaGlwIGJldHdlZW4gVkMgZGltZW5zaW9uIGFuZCBkZWdyZWVzIG9mIGZyZWVkb20=', Tags='<machine-learning><self-study>', AnswerCount=2, CommentCount=0, FavoriteCount=1, CloseDate=None),\n Row(Id=6111, ParentId=None, PostTypeId=1, CreationDate=datetime.datetime(2015, 6, 13, 18, 45, 53), Score=2, ViewCount=128, Body=None, OwnerUserId=10150, LastActivityDate=datetime.datetime(2015, 11, 25, 3, 14), Title='UHJvYmFiaWxpdHkgdHJlZSBpbiBTUFNTLyBSLyBvdGhlcnM/', Tags='<bigdata><r><python>', AnswerCount=0, CommentCount=3, FavoriteCount=0, CloseDate=None),\n Row(Id=6113, ParentId=None, PostTypeId=1, CreationDate=datetime.datetime(2015, 6, 14, 10, 19, 31), Score=8, ViewCount=1423, Body=None, OwnerUserId=9637, LastActivityDate=datetime.datetime(2019, 12, 5, 13, 45, 30), Title='QWxnb3JpdGhtIGZvciBzZWdtZW50YXRpb24gb2Ygc2VxdWVuY2UgZGF0YQ==', Tags='<machine-learning><clustering><sequence>', AnswerCount=3, CommentCount=2, FavoriteCount=4, CloseDate=None),\n Row(Id=6115, ParentId=None, PostTypeId=1, CreationDate=datetime.datetime(2015, 6, 14, 11, 28, 46), Score=2, ViewCount=7573, Body=None, OwnerUserId=9793, LastActivityDate=datetime.datetime(2018, 3, 19, 16, 16, 44), Title='SG93IHRvIGNvbnZlcnQgYSB0ZXh0IHRvIGxvd2VyIGNhc2UgdXNpbmcgdG0gcGFja2FnZT8=', Tags='<machine-learning><r><text-mining>', AnswerCount=2, CommentCount=0, FavoriteCount=1, CloseDate=None),\n Row(Id=6116, ParentId=None, PostTypeId=1, CreationDate=datetime.datetime(2015, 6, 14, 14, 27, 36), Score=23, ViewCount=489, Body=None, OwnerUserId=1127, LastActivityDate=datetime.datetime(2015, 6, 16, 13, 42, 47), Title='SG93IGRvIHlvdSBtYW5hZ2UgZXhwZWN0YXRpb25zIGF0IHdvcms/', Tags='<performance><accuracy>', AnswerCount=3, CommentCount=2, FavoriteCount=4, CloseDate=None),\n Row(Id=6120, ParentId=None, PostTypeId=1, CreationDate=datetime.datetime(2015, 6, 15, 12, 24, 3), Score=1, ViewCount=335, Body=None, OwnerUserId=10170, LastActivityDate=datetime.datetime(2015, 6, 15, 19, 2, 12), Title='TUNNQyB2cyBOZXR3b3JrIFRoZW9yeSBmb3IgQmlnIERhdGEgYW5kIERhdGEgU2NpZW5jZSBhcHBsaWNhdGlvbnM=', Tags='<career>', AnswerCount=1, CommentCount=0, FavoriteCount=0, CloseDate=None),\n Row(Id=6123, ParentId=None, PostTypeId=1, CreationDate=datetime.datetime(2015, 6, 15, 15, 7, 43), Score=3, ViewCount=2097, Body=None, OwnerUserId=5043, LastActivityDate=datetime.datetime(2020, 8, 3, 8, 6, 38), Title='SW1wbGVtZW50aW5nIHNrbGVhcm4ubGluZWFyX21vZGVsLlNHRENsYXNzaWZpZXIgdXNpbmcgcHl0aG9u', Tags='<machine-learning><classification><python><svm><regression>', AnswerCount=1, CommentCount=0, FavoriteCount=0, CloseDate=None),\n Row(Id=6133, ParentId=None, PostTypeId=1, CreationDate=datetime.datetime(2015, 6, 17, 9, 45, 49), Score=3, ViewCount=2340, Body=None, OwnerUserId=9793, LastActivityDate=datetime.datetime(2015, 8, 21, 7, 33, 2), Title='T3Zlci1maXR0aW5nIGlzc3VlIGluIGEgY2xhc3NpZmljYXRpb24gcHJvYmxlbSAodW5iYWxhbmNlZCBkYXRhKQ==', Tags='<machine-learning><data-mining><classification><r><decision-trees>', AnswerCount=1, CommentCount=7, FavoriteCount=2, CloseDate=None),\n Row(Id=6137, ParentId=None, PostTypeId=1, CreationDate=datetime.datetime(2015, 6, 17, 19, 36, 26), Score=4, ViewCount=195, Body=None, OwnerUserId=10201, LastActivityDate=datetime.datetime(2015, 6, 21, 10, 57, 7), Title='SXMgaXQgb2sgdG8gaW50ZXJwcmV0ZSBQQ0EgcGxvdCB0aGlzIHdheT8=', Tags='<machine-learning><dimensionality-reduction>', AnswerCount=3, CommentCount=4, FavoriteCount=1, CloseDate=None),\n Row(Id=6139, ParentId=None, PostTypeId=1, CreationDate=datetime.datetime(2015, 6, 18, 7, 9, 8), Score=1, ViewCount=135, Body=None, OwnerUserId=10210, LastActivityDate=datetime.datetime(2015, 7, 7, 1, 15, 4), Title='Q2FuIHdlIHVzZSBIREZTIGFuZCBiaWcgZGF0YSBBbmFseXRpY3MgZm9yIHByb2Nlc3NpbmcgaHVnZSBsb2cgZmlsZXMgYmVpbmcgcHJvY2Vzc2VkIHRocm91Z2ggc29tZSBhcHBsaWNhdGlvbiBvbiBzb21lIGNlbnRyYWwgc2VydmVyPw==', Tags='<bigdata><apache-hadoop>', AnswerCount=1, CommentCount=2, FavoriteCount=1, CloseDate=None),\n Row(Id=6140, ParentId=None, PostTypeId=1, CreationDate=datetime.datetime(2015, 6, 18, 9, 4, 22), Score=2, ViewCount=1992, Body=None, OwnerUserId=3151, LastActivityDate=datetime.datetime(2015, 6, 22, 13, 0, 17), Title='UmVhZGluZyBQZXJzaWFuIENoYXJhY3RlcnMgaW4gUg==', Tags='<r><dataset>', AnswerCount=3, CommentCount=2, FavoriteCount=1, CloseDate=None),\n Row(Id=6141, ParentId=None, PostTypeId=1, CreationDate=datetime.datetime(2015, 6, 18, 10, 43, 22), Score=2, ViewCount=105, Body=None, OwnerUserId=3151, LastActivityDate=datetime.datetime(2015, 12, 3, 15, 28, 56), Title='V29ya2luZyB3aXRoIHRleHQgZmlsZXMgaW4gRXhjZWw=', Tags='<dataset><excel>', AnswerCount=1, CommentCount=3, FavoriteCount=0, CloseDate=None),\n Row(Id=6144, ParentId=None, PostTypeId=1, CreationDate=datetime.datetime(2015, 6, 18, 16, 41, 43), Score=7, ViewCount=358, Body=None, OwnerUserId=10187, LastActivityDate=datetime.datetime(2015, 7, 21, 3, 40, 23), Title='U2Vuc2l0aXZpdHkgdG8gc2NhbGluZyBvZiBmZWF0dXJlcyBpbiBhIG11bHRpdmFyaWF0ZSBnYXVzc2lhbnM=', Tags='<python><statistics><feature-scaling>', AnswerCount=1, CommentCount=2, FavoriteCount=0, CloseDate=None),\n Row(Id=6146, ParentId=None, PostTypeId=1, CreationDate=datetime.datetime(2015, 6, 18, 18, 23, 7), Score=8, ViewCount=802, Body=None, OwnerUserId=10225, LastActivityDate=datetime.datetime(2015, 6, 18, 23, 29, 51), Title='QmVzdCB3YXkgdG8gc3RvcmUgbGFyZ2UgZGF0YSBzZXQgdXNpbmcgUiBmcm9tIFR3aXR0ZXI/', Tags='<r><dataset>', AnswerCount=2, CommentCount=3, FavoriteCount=1, CloseDate=None),\n Row(Id=6150, ParentId=None, PostTypeId=1, CreationDate=datetime.datetime(2015, 6, 19, 5, 41, 26), Score=1, ViewCount=3976, Body=None, OwnerUserId=9039, LastActivityDate=datetime.datetime(2015, 6, 24, 20, 21, 1), Title='SG93IHRvIGltcG9ydCBhIHRzdiBmaWxlIHRvIE1hdGxhYg==', Tags='<bigdata><matlab>', AnswerCount=1, CommentCount=2, FavoriteCount=0, CloseDate=None),\n Row(Id=6151, ParentId=None, PostTypeId=1, CreationDate=datetime.datetime(2015, 6, 19, 7, 12, 7), Score=4, ViewCount=1124, Body=None, OwnerUserId=5091, LastActivityDate=datetime.datetime(2015, 6, 20, 6, 12, 8), Title='TkVSIG9uIFR3aXR0ZXIgZGF0YQ==', Tags='<python><named-entity-recognition>', AnswerCount=2, CommentCount=0, FavoriteCount=0, CloseDate=None),\n Row(Id=6153, ParentId=None, PostTypeId=1, CreationDate=datetime.datetime(2015, 6, 19, 7, 37, 44), Score=2, ViewCount=33, Body=None, OwnerUserId=10232, LastActivityDate=datetime.datetime(2021, 3, 11, 18, 27, 34), Title='SW1wb3J0YW5jZSBvZiBSYW5kb20gaW5pdGlhbGlzYXRpb24gVlMgbnVtYmVyIG9mIGhpZGRlbiB1bml0cw==', Tags='<neural-network>', AnswerCount=0, CommentCount=0, FavoriteCount=1, CloseDate=None),\n Row(Id=6165, ParentId=None, PostTypeId=1, CreationDate=datetime.datetime(2015, 6, 21, 8, 22, 39), Score=10, ViewCount=1432, Body=None, OwnerUserId=10255, LastActivityDate=datetime.datetime(2017, 5, 3, 18, 40, 8), Title='SW1wbGVtZW50aW5nIENvbXBsZW1lbnRhcnkgTmFpdmUgQmF5ZXMgaW4gcHl0aG9uPw==', Tags='<machine-learning><classification><python><naive-bayes-classifier>', AnswerCount=2, CommentCount=0, FavoriteCount=1, CloseDate=None),\n Row(Id=6169, ParentId=None, PostTypeId=1, CreationDate=datetime.datetime(2015, 6, 21, 17, 31, 5), Score=9, ViewCount=8739, Body=None, OwnerUserId=5043, LastActivityDate=datetime.datetime(2020, 8, 3, 13, 33, 58), Title='SG93IHRvIHJ1biBhIHB5c3BhcmsgYXBwbGljYXRpb24gaW4gd2luZG93cyA4IGNvbW1hbmQgcHJvbXB0', Tags='<python><apache-spark><pyspark><ipython><windows>', AnswerCount=3, CommentCount=2, FavoriteCount=0, CloseDate=None),\n Row(Id=6172, ParentId=None, PostTypeId=1, CreationDate=datetime.datetime(2015, 6, 22, 2, 13, 40), Score=4, ViewCount=144, Body=None, OwnerUserId=9123, LastActivityDate=datetime.datetime(2020, 4, 16, 7, 36, 46), Title='V2hhdCBraW5kIG9mIHJlc2VhcmNoIGNhbiBiZSBkb25lIHdpdGggZ2Vub21pYyBkYXRhPw==', Tags='<machine-learning><classification><bioinformatics><data>', AnswerCount=2, CommentCount=0, FavoriteCount=1, CloseDate=None),\n Row(Id=6174, ParentId=None, PostTypeId=1, CreationDate=datetime.datetime(2015, 6, 22, 13, 22, 57), Score=1, ViewCount=6939, Body=None, OwnerUserId=10272, LastActivityDate=datetime.datetime(2015, 6, 22, 20, 44, 59), Title='UnN0dWRpbyB1c2luZyAyLjUlIG9mIDI1MEdCIFJBTS4gaG93IHRvIEluY3JlYXNlIGl0', Tags='<r><rstudio>', AnswerCount=1, CommentCount=1, FavoriteCount=0, CloseDate=datetime.datetime(2015, 6, 23, 9, 34, 43)),\n Row(Id=6175, ParentId=None, PostTypeId=1, CreationDate=datetime.datetime(2015, 6, 22, 14, 41, 12), Score=2, ViewCount=84, Body=None, OwnerUserId=10275, LastActivityDate=datetime.datetime(2015, 6, 24, 16, 23, 56), Title='V2hpY2ggb3Blbi1zb3VyY2Ugc2dkYiBmb3Iga2luZCBvZiBsYXJnZSBkYXRh', Tags='<r><performance><mongodb>', AnswerCount=1, CommentCount=11, FavoriteCount=0, CloseDate=None),\n Row(Id=6176, ParentId=None, PostTypeId=1, CreationDate=datetime.datetime(2015, 6, 22, 15, 26, 36), Score=2, ViewCount=164, Body=None, OwnerUserId=10265, LastActivityDate=datetime.datetime(2015, 6, 22, 15, 26, 36), Title='RGVidWdnaW5nIE5ldXJhbCBOZXR3b3JrIGZvciAoTmF0dXJhbCBMYW5ndWFnZSkgVGFnZ2luZw==', Tags='<machine-learning><neural-network><knowledge-base><java>', AnswerCount=0, CommentCount=1, FavoriteCount=0, CloseDate=None),\n Row(Id=6181, ParentId=None, PostTypeId=1, CreationDate=datetime.datetime(2015, 6, 23, 8, 36, 13), Score=7, ViewCount=290, Body=None, OwnerUserId=10293, LastActivityDate=datetime.datetime(2020, 5, 17, 15, 16, 25), Title='V2hhdCBraW5kcyBvZiBkYXRhIG90aGVyIHRoYW4gZ2VvZ3JhcGhpY2FsIGFyZSB0b3BvbG9naWNhbGx5IHNwaGVyaWNhbD8=', Tags='<dataset>', AnswerCount=2, CommentCount=1, FavoriteCount=0, CloseDate=None),\n Row(Id=6182, ParentId=None, PostTypeId=1, CreationDate=datetime.datetime(2015, 6, 23, 9, 20, 27), Score=3, ViewCount=102, Body=None, OwnerUserId=9444, LastActivityDate=datetime.datetime(2017, 3, 8, 15, 21, 35), Title='SXMgdGhlcmUgYW4gaW50ZXJmYWNlIGZvciBib290c3RyYXAgc2FtcGxpbmcgaW4gcmF0dGxlIGluIFI/', Tags='<machine-learning><r><rattle>', AnswerCount=0, CommentCount=0, FavoriteCount=0, CloseDate=None),\n Row(Id=6183, ParentId=None, PostTypeId=1, CreationDate=datetime.datetime(2015, 6, 23, 12, 59, 13), Score=6, ViewCount=214, Body=None, OwnerUserId=9486, LastActivityDate=datetime.datetime(2018, 7, 5, 13, 57, 45), Title='V2hhdCBpcyBhbiBhbHRlcm5hdGl2ZSBuYW1lIGZvciAiVW5zdHJ1Y3R1cmVkIERhdGEiPw==', Tags='<text-mining><definitions><terminology>', AnswerCount=3, CommentCount=2, FavoriteCount=0, CloseDate=None),\n Row(Id=6184, ParentId=None, PostTypeId=1, CreationDate=datetime.datetime(2015, 6, 23, 13, 54, 3), Score=5, ViewCount=93, Body=None, OwnerUserId=6514, LastActivityDate=datetime.datetime(2020, 8, 3, 13, 29, 12), Title='RmluZGluZyBhZ2dyZWdhdGVkIGluZm9ybWF0aW9uIG9mIGRhdGE=', Tags='<r><python><data>', AnswerCount=1, CommentCount=2, FavoriteCount=0, CloseDate=None),\n Row(Id=6186, ParentId=None, PostTypeId=1, CreationDate=datetime.datetime(2015, 6, 23, 14, 40, 47), Score=9, ViewCount=4013, Body=None, OwnerUserId=2673, LastActivityDate=datetime.datetime(2018, 3, 19, 11, 56, 48), Title='SXMgdGhlcmUgYSBkaWZmZXJlbmNlIGJldHdlZW4gb24tbGluZSBsZWFybmluZywgaW5jcmVtZW50YWwgbGVhcm5pbmcgYW5kIHNlcXVlbnRpYWwgbGVhcm5pbmc/', Tags='<machine-learning><online-learning>', AnswerCount=2, CommentCount=2, FavoriteCount=3, CloseDate=None),\n Row(Id=6188, ParentId=None, PostTypeId=1, CreationDate=datetime.datetime(2015, 6, 23, 16, 29, 23), Score=6, ViewCount=279, Body=None, OwnerUserId=10102, LastActivityDate=datetime.datetime(2020, 8, 17, 18, 55, 6), Title='V2hhdCBpcyB0aGUgYmVzdCB3YXkgdG8gcHJvcG9zZSBhbiBpdGVtIGZyb20gYSBzZXQgYmFzZWQgb24gcHJldmlvdXMgY2hvaWNlcz8=', Tags='<machine-learning><data-mining><python>', AnswerCount=4, CommentCount=0, FavoriteCount=2, CloseDate=None),\n Row(Id=6189, ParentId=None, PostTypeId=1, CreationDate=datetime.datetime(2015, 6, 23, 16, 36, 41), Score=5, ViewCount=114, Body=None, OwnerUserId=10327, LastActivityDate=datetime.datetime(2015, 7, 14, 6, 9, 27), Title='QmlnZGF0YSBjbHVzdGVyIGNvbXBhdGlibGUgZGlzdHJpYnV0ZWQgcHJlZGljdGl2ZSBtb2RlbA==', Tags='<machine-learning><python>', AnswerCount=2, CommentCount=1, FavoriteCount=2, CloseDate=None),\n Row(Id=6190, ParentId=None, PostTypeId=1, CreationDate=datetime.datetime(2015, 6, 23, 19, 15, 8), Score=4, ViewCount=1123, Body=None, OwnerUserId=10300, LastActivityDate=datetime.datetime(2015, 6, 29, 4, 27, 24), Title='V2hhdCBpcyB0aGUgcmlnaHQgYWxnb3JpdGhtIHRvIGRldGVjdCBzZWdtZW50YXRpb25zIG9mIGEgbGluZSBjaGFydD8=', Tags='<machine-learning><logistic-regression>', AnswerCount=3, CommentCount=1, FavoriteCount=1, CloseDate=None),\n Row(Id=6200, ParentId=None, PostTypeId=1, CreationDate=datetime.datetime(2015, 6, 24, 11, 23, 3), Score=4, ViewCount=2517, Body=None, OwnerUserId=2643, LastActivityDate=datetime.datetime(2021, 1, 12, 21, 43, 38), Title='V2hhdCBhcmUgdGhlIGJhc2ljIGFwcHJvYWNoZXMgZm9yIGJhbGFuY2luZyBhIGRhdGFzZXQgZm9yIG1hY2hpbmUgbGVhcm5pbmc/', Tags='<machine-learning><dataset>', AnswerCount=3, CommentCount=1, FavoriteCount=2, CloseDate=None),\n Row(Id=6201, ParentId=None, PostTypeId=1, CreationDate=datetime.datetime(2015, 6, 24, 12, 22, 46), Score=3, ViewCount=6083, Body=None, OwnerUserId=10314, LastActivityDate=datetime.datetime(2016, 4, 15, 12, 18, 48), Title='UmVzb3VyY2VzIG9uIERhdGEgU2NpZW5jZSBmb3IgRm9vdGJhbGwgLyBTb2NjZXI/', Tags='<data-mining><reference-request><sports>', AnswerCount=4, CommentCount=2, FavoriteCount=9, CloseDate=None),\n Row(Id=6202, ParentId=None, PostTypeId=1, CreationDate=datetime.datetime(2015, 6, 24, 12, 24, 3), Score=1, ViewCount=94, Body=None, OwnerUserId=8999, LastActivityDate=datetime.datetime(2016, 1, 23, 22, 18, 56), Title='U1BTUyBzdHlsZSBjdXN0b20gdGFibGVzIGluIE9yYW5nZQ==', Tags='<clustering><orange>', AnswerCount=0, CommentCount=4, FavoriteCount=0, CloseDate=None),\n ...]"
     ]
    }
   ],
   "source": [
    "posts_df[posts_df[\"PostTypeId\"] == 1].collect()"
   ]
  },
  {
   "cell_type": "markdown",
   "metadata": {
    "application/vnd.databricks.v1+cell": {
     "cellMetadata": {
      "byteLimit": 2048000,
      "rowLimit": 10000
     },
     "inputWidgets": {},
     "nuid": "26060642-7e52-4723-98ea-3b8730753439",
     "showTitle": false,
     "title": ""
    }
   },
   "source": [
    "#### Subtask 3: validating the implementation by running the tests\n",
    "\n",
    "Run the cell below and make sure that all the tests run successfully."
   ]
  },
  {
   "cell_type": "code",
   "execution_count": 0,
   "metadata": {
    "application/vnd.databricks.v1+cell": {
     "cellMetadata": {
      "byteLimit": 2048000,
      "rowLimit": 10000
     },
     "inputWidgets": {},
     "nuid": "0bb43bc9-1eb4-4b8d-ae5a-36f1a371688d",
     "showTitle": false,
     "title": ""
    }
   },
   "outputs": [
    {
     "output_type": "display_data",
     "data": {
      "application/unittest.status+json": {
       "color": "yellow",
       "message": "",
       "previous": 0
      },
      "text/plain": []
     },
     "metadata": {},
     "output_type": "display_data"
    },
    {
     "output_type": "stream",
     "name": "stdout",
     "output_type": "stream",
     "text": [
      "0.5218138821621892\n0.14735583045028042\n0.4753098634046609\n"
     ]
    },
    {
     "output_type": "display_data",
     "data": {
      "application/unittest.status+json": {
       "color": "salmon",
       "message": "...EEE\n======================================================================\nERROR: test_get_edges (__main__.TestTask3)\n----------------------------------------------------------------------\nTraceback (most recent call last):\n  File \"Cell Tests\", line 41, in test_get_edges\nNameError: name 'make_tag_graph' is not defined\n\n======================================================================\nERROR: test_get_nodes (__main__.TestTask3)\n----------------------------------------------------------------------\nTraceback (most recent call last):\n  File \"Cell Tests\", line 35, in test_get_nodes\nNameError: name 'make_tag_graph' is not defined\n\n======================================================================\nERROR: test_make_tag_graph (__main__.TestTask3)\n----------------------------------------------------------------------\nTraceback (most recent call last):\n  File \"Cell Tests\", line 24, in test_make_tag_graph\nNameError: name 'make_tag_graph' is not defined\n\n----------------------------------------------------------------------\nRan 6 tests in 3.725s\n\nFAILED (errors=3)\n",
       "previous": 0
      },
      "text/plain": [
       "Fail"
      ]
     },
     "metadata": {},
     "output_type": "display_data"
    },
    {
     "output_type": "stream",
     "name": "stdout",
     "output_type": "stream",
     "text": [
      "...EEE\n======================================================================\nERROR: test_get_edges (__main__.TestTask3)\n----------------------------------------------------------------------\nTraceback (most recent call last):\n  File \"Cell Tests\", line 41, in test_get_edges\nNameError: name 'make_tag_graph' is not defined\n\n======================================================================\nERROR: test_get_nodes (__main__.TestTask3)\n----------------------------------------------------------------------\nTraceback (most recent call last):\n  File \"Cell Tests\", line 35, in test_get_nodes\nNameError: name 'make_tag_graph' is not defined\n\n======================================================================\nERROR: test_make_tag_graph (__main__.TestTask3)\n----------------------------------------------------------------------\nTraceback (most recent call last):\n  File \"Cell Tests\", line 24, in test_make_tag_graph\nNameError: name 'make_tag_graph' is not defined\n\n----------------------------------------------------------------------\nRan 6 tests in 3.725s\n\nFAILED (errors=3)\nOut[18]: <unittest.runner.TextTestResult run=6 errors=3 failures=0>"
     ]
    }
   ],
   "source": [
    "%%unittest_main\n",
    "class TestTask3(unittest.TestCase):\n",
    "  \n",
    "  error_threshold = 0.03\n",
    "  \n",
    "  def test_corr1(self):\n",
    "    # Pearson correlation coefficient between 'user reputation' and 'upvotes' received by users\n",
    "    result = compute_pearsons_r(users_df, \"Reputation\", \"UpVotes\")\n",
    "    self.assertLessEqual(abs(result-0.5218138310114108), self.error_threshold)\n",
    "    print(result)\n",
    "  \n",
    "  def test_corr2(self):\n",
    "    # Pearson correlation coefficient between 'user reputation' and 'downvotes' received by users\n",
    "    result = compute_pearsons_r(users_df, \"Reputation\", \"DownVotes\")\n",
    "    self.assertLessEqual(abs(result-0.1473558141546844), self.error_threshold)\n",
    "    print(result)\n",
    "\n",
    "  def test_corr3(self):\n",
    "    # Pearson correlation coefficient between 'question score' and the 'number of answers' it received\n",
    "    result = compute_pearsons_r(posts_df[posts_df[\"PostTypeId\"] == 1], \"Score\", \"AnswerCount\")\n",
    "    self.assertLessEqual(abs(result-0.47855272641249674), self.error_threshold)\n",
    "    print(result)\n",
    "    \n",
    "  def test_make_tag_graph(self):\n",
    "    result = make_tag_graph(df=posts_df[posts_df[\"PostTypeId\"] == 1])\n",
    "    self.assertIsInstance(result, DataFrame)\n",
    "    \n",
    "    coulmn_names = Counter(map(str.lower, ['u', 'v']))\n",
    "    self.assertCountEqual(coulmn_names, Counter(map(str.lower, result.columns)), \"Missing column(s) or column name mismatch\")\n",
    "    \n",
    "    display(result)\n",
    "    \n",
    "    self.assertEqual(result.count(), 228830)\n",
    "    \n",
    "  def test_get_nodes(self):\n",
    "    result = make_tag_graph(df=posts_df[posts_df[\"PostTypeId\"] == 1])\n",
    "    n = get_nodes(result)\n",
    "    self.assertEqual(n.count(), 638)\n",
    "    n.show()\n",
    "\n",
    "  def test_get_edges(self):\n",
    "    result = make_tag_graph(df=posts_df[posts_df[\"PostTypeId\"] == 1])\n",
    "    e = get_edges(result)\n",
    "    \n",
    "    coulmn_names = Counter(map(str.lower, ['src', 'dst']))\n",
    "    self.assertCountEqual(coulmn_names, Counter(map(str.lower, e.columns)), \"Missing column(s) or column name mismatch\")\n",
    "    \n",
    "    self.assertEqual(e.count(), 225290)\n",
    "    e.show()\n",
    "    "
   ]
  },
  {
   "cell_type": "markdown",
   "metadata": {
    "application/vnd.databricks.v1+cell": {
     "cellMetadata": {
      "byteLimit": 2048000,
      "rowLimit": 10000
     },
     "inputWidgets": {},
     "nuid": "89df9a4d-63c0-44e4-87d7-93602ec156a7",
     "showTitle": false,
     "title": ""
    }
   },
   "source": [
    "#### Subtask 4: answering to questions about Spark related concepts\n",
    "\n",
    "Please write a short description for the terms below---one to two short paragraphs for each term. Don't copy-paste; instead, write your own understanding.\n",
    "\n",
    "1. What do the terms 'User-Defined Functions (UDFs)', 'Data Locality', 'Bucketing', 'Distributed Filesystem' mean in the context of Spark?\n",
    "\n",
    "Write your descriptions in the next cell."
   ]
  },
  {
   "cell_type": "markdown",
   "metadata": {
    "application/vnd.databricks.v1+cell": {
     "cellMetadata": {
      "byteLimit": 2048000,
      "rowLimit": 10000
     },
     "inputWidgets": {},
     "nuid": "fa3a29e6-80ad-4105-a8f9-dae8d991c6c6",
     "showTitle": false,
     "title": ""
    }
   },
   "source": [
    "Your answers..."
   ]
  }
 ],
 "metadata": {
  "application/vnd.databricks.v1+notebook": {
   "dashboards": [],
   "language": "python",
   "notebookMetadata": {
    "pythonIndentUnit": 2
   },
   "notebookName": "Task3",
   "widgets": {}
  },
  "kernelspec": {
   "display_name": "Python 3 (ipykernel)",
   "language": "python",
   "name": "python3"
  },
  "language_info": {
   "codemirror_mode": {
    "name": "ipython",
    "version": 3
   },
   "file_extension": ".py",
   "mimetype": "text/x-python",
   "name": "python",
   "nbconvert_exporter": "python",
   "pygments_lexer": "ipython3",
   "version": "3.10.12"
  }
 },
 "nbformat": 4,
 "nbformat_minor": 0
}
