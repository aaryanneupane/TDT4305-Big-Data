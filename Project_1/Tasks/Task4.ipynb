{
 "cells": [
  {
   "cell_type": "markdown",
   "metadata": {
    "application/vnd.databricks.v1+cell": {
     "cellMetadata": {
      "byteLimit": 2048000,
      "rowLimit": 10000
     },
     "inputWidgets": {},
     "nuid": "bbe62928-01d3-402d-9e45-19d009a4639d",
     "showTitle": false,
     "title": ""
    }
   },
   "source": [
    "#### Names of people in the group\n",
    "\n",
    "Please write the names of the people in your group in the next cell."
   ]
  },
  {
   "cell_type": "markdown",
   "metadata": {
    "application/vnd.databricks.v1+cell": {
     "cellMetadata": {
      "byteLimit": 2048000,
      "rowLimit": 10000
     },
     "inputWidgets": {},
     "nuid": "15e1606f-bbea-4e98-9f90-bf0a15da5391",
     "showTitle": false,
     "title": ""
    }
   },
   "source": [
    "Anne Torgersen\n",
    "\n",
    "Aaryan Neupane"
   ]
  },
  {
   "cell_type": "code",
   "execution_count": null,
   "metadata": {
    "application/vnd.databricks.v1+cell": {
     "cellMetadata": {
      "byteLimit": 2048000,
      "rowLimit": 10000
     },
     "inputWidgets": {},
     "nuid": "389ff132-7e3c-444e-a980-6490e3448153",
     "showTitle": false,
     "title": ""
    }
   },
   "outputs": [],
   "source": [
    "# Loading modules that we need\n",
    "from pyspark.sql.session import SparkSession\n",
    "from pyspark.sql.types import *\n",
    "from pyspark.sql.functions import *\n",
    "\n",
    "# Add your imports below this line"
   ]
  },
  {
   "cell_type": "code",
   "execution_count": null,
   "metadata": {
    "application/vnd.databricks.v1+cell": {
     "cellMetadata": {
      "byteLimit": 2048000,
      "rowLimit": 10000
     },
     "inputWidgets": {},
     "nuid": "1b384d61-f63a-4c3f-9d87-63e0427c5ecd",
     "showTitle": false,
     "title": ""
    }
   },
   "outputs": [],
   "source": [
    "# A helper function to load a table (stored in Parquet format) from DBFS as a Spark DataFrame \n",
    "def load_df(table_name: \"name of the table to load\") -> DataFrame:\n",
    "    return spark.read.parquet(table_name)\n",
    "\n",
    "users_df = load_df(\"/user/hive/warehouse/users\")\n",
    "posts_df = load_df(\"/user/hive/warehouse/posts\")\n",
    "\n",
    "# Uncomment if you need\n",
    "# comments_df = load_df(\"/user/hive/warehouse/comments\")\n",
    "# badges_df = load_df(\"/user/hive/warehouse/badges\")"
   ]
  },
  {
   "cell_type": "markdown",
   "metadata": {
    "application/vnd.databricks.v1+cell": {
     "cellMetadata": {
      "byteLimit": 2048000,
      "rowLimit": 10000
     },
     "inputWidgets": {},
     "nuid": "e9b9e457-0510-45fb-8a13-85c006247f0c",
     "showTitle": false,
     "title": ""
    }
   },
   "source": [
    "### The Problem: Mining the Interests of Experts"
   ]
  },
  {
   "cell_type": "markdown",
   "metadata": {
    "application/vnd.databricks.v1+cell": {
     "cellMetadata": {
      "byteLimit": 2048000,
      "rowLimit": 10000
     },
     "inputWidgets": {},
     "nuid": "4ad4b4a9-3d52-4ea1-aa29-fbff12a1d9ec",
     "showTitle": false,
     "title": ""
    }
   },
   "source": [
    "##### User reputation"
   ]
  },
  {
   "cell_type": "code",
   "execution_count": null,
   "metadata": {
    "application/vnd.databricks.v1+cell": {
     "cellMetadata": {
      "byteLimit": 2048000,
      "rowLimit": 10000
     },
     "inputWidgets": {},
     "nuid": "a5d203e1-ee4f-4ffe-902b-621c027cff89",
     "showTitle": false,
     "title": ""
    }
   },
   "outputs": [],
   "source": [
    "## Divide the needed data into a user reputation variable\n",
    "users_df.createOrReplaceTempView(\"users\")\n",
    "query1 = '''\n",
    "SELECT Id, Reputation\n",
    "FROM users\n",
    "'''\n",
    "usr_rep = spark.sql(query1)"
   ]
  },
  {
   "cell_type": "markdown",
   "metadata": {
    "application/vnd.databricks.v1+cell": {
     "cellMetadata": {
      "byteLimit": 2048000,
      "rowLimit": 10000
     },
     "inputWidgets": {},
     "nuid": "f272c487-29ee-46ed-89a1-ff4cb0eb7999",
     "showTitle": false,
     "title": ""
    }
   },
   "source": [
    "##### User expertise"
   ]
  },
  {
   "cell_type": "code",
   "execution_count": null,
   "metadata": {
    "application/vnd.databricks.v1+cell": {
     "cellMetadata": {
      "byteLimit": 2048000,
      "rowLimit": 10000
     },
     "inputWidgets": {},
     "nuid": "717b4686-f208-468f-a43b-4f171baeea2e",
     "showTitle": false,
     "title": ""
    }
   },
   "outputs": [],
   "source": [
    "## Divide the needed data into a user expertise variable\n",
    "posts_df.createOrReplaceTempView(\"posts1\")\n",
    "posts_df.createOrReplaceTempView(\"posts2\")\n",
    "query2 = '''\n",
    "SELECT posts1.OwnerUserId, collect_list(posts2.Tags) AS Tags\n",
    "FROM posts1\n",
    "INNER JOIN posts2 ON posts1.ParentId = posts2.Id\n",
    "WHERE posts1.PostTypeId = 2\n",
    "GROUP BY posts1.OwnerUserId\n",
    "'''\n",
    "usr_exp = spark.sql(query2)"
   ]
  },
  {
   "cell_type": "code",
   "execution_count": null,
   "metadata": {
    "application/vnd.databricks.v1+cell": {
     "cellMetadata": {
      "byteLimit": 2048000,
      "rowLimit": 10000
     },
     "inputWidgets": {},
     "nuid": "985722d4-e3ba-479b-b080-1eab9f629f9e",
     "showTitle": false,
     "title": ""
    }
   },
   "outputs": [],
   "source": [
    "# Helper function to split the tags from the provided format\n",
    "def get_tag_diversity(tag_list: list):\n",
    "    resulting_tags = set()\n",
    "    for tag in tag_list:\n",
    "        if \"><\" in tag:\n",
    "            divided_tags = tag.split(\"><\")\n",
    "            resulting_tags.update(tag.strip(\">\").strip(\"<\") for tag in divided_tags)\n",
    "        else:\n",
    "            stripped_tag = tag.strip(\"<>\").strip()\n",
    "            resulting_tags.add(stripped_tag)\n",
    "    return len(resulting_tags) / 638"
   ]
  },
  {
   "cell_type": "code",
   "execution_count": null,
   "metadata": {
    "application/vnd.databricks.v1+cell": {
     "cellMetadata": {
      "byteLimit": 2048000,
      "rowLimit": 10000
     },
     "inputWidgets": {},
     "nuid": "ecca1701-0f50-481f-8ad5-aceea90e58fb",
     "showTitle": false,
     "title": ""
    }
   },
   "outputs": [],
   "source": [
    "# Create a new dataframe with the userId and the users interest diversity score\n",
    "result = list()\n",
    "for row in usr_exp.collect():\n",
    "  user = row[\"OwnerUserId\"]\n",
    "  usr_tags = row[\"Tags\"]\n",
    "  interest_diversity = get_tag_diversity(usr_tags)\n",
    "  result.append((user, interest_diversity))\n",
    "\n",
    "usr_diversity = spark.createDataFrame(result, [\"Id\", \"InterestDiversity\"])"
   ]
  },
  {
   "cell_type": "markdown",
   "metadata": {
    "application/vnd.databricks.v1+cell": {
     "cellMetadata": {
      "byteLimit": 2048000,
      "rowLimit": 10000
     },
     "inputWidgets": {},
     "nuid": "d9e5b94b-4894-44c1-9a25-9ecd10176391",
     "showTitle": false,
     "title": ""
    }
   },
   "source": [
    "##### Create joint dataframe"
   ]
  },
  {
   "cell_type": "code",
   "execution_count": null,
   "metadata": {
    "application/vnd.databricks.v1+cell": {
     "cellMetadata": {
      "byteLimit": 2048000,
      "rowLimit": 10000
     },
     "inputWidgets": {},
     "nuid": "29b84400-d5c3-4750-9dec-05a8a2c96d9b",
     "showTitle": false,
     "title": ""
    }
   },
   "outputs": [],
   "source": [
    "# Creating a joint dataframe with the users id, reputation and interest diversity score\n",
    "usr_rep.createOrReplaceTempView(\"usr_rep\")\n",
    "usr_diversity.createOrReplaceTempView(\"usr_div\")\n",
    "\n",
    "query3 = '''\n",
    "SELECT usr_div.Id, usr_rep.Reputation, usr_div.InterestDiversity\n",
    "FROM usr_rep INNER JOIN usr_div ON usr_div.Id = usr_rep.Id\n",
    "'''\n",
    "final_df = spark.sql(query3)"
   ]
  },
  {
   "cell_type": "markdown",
   "metadata": {
    "application/vnd.databricks.v1+cell": {
     "cellMetadata": {
      "byteLimit": 2048000,
      "rowLimit": 10000
     },
     "inputWidgets": {},
     "nuid": "96901f7e-c22e-4b87-9d46-d270db903c78",
     "showTitle": false,
     "title": ""
    }
   },
   "source": [
    "##### Correlation function"
   ]
  },
  {
   "cell_type": "code",
   "execution_count": null,
   "metadata": {
    "application/vnd.databricks.v1+cell": {
     "cellMetadata": {
      "byteLimit": 2048000,
      "rowLimit": 10000
     },
     "inputWidgets": {},
     "nuid": "c57e6eca-0ec7-4115-b876-487efe0a4904",
     "showTitle": false,
     "title": ""
    }
   },
   "outputs": [
    {
     "name": "stdout",
     "output_type": "stream",
     "text": [
      "0.7217677648622973\n"
     ]
    }
   ],
   "source": [
    "def compute_pearsons_r(df, col1, col2):\n",
    "    correlation_coefficient = df.select(corr(col(col1), col(col2))).first()[0]\n",
    "    return correlation_coefficient\n",
    "\n",
    "print(compute_pearsons_r(final_df, \"Reputation\",\"InterestDiversity\"))"
   ]
  },
  {
   "cell_type": "markdown",
   "metadata": {
    "application/vnd.databricks.v1+cell": {
     "cellMetadata": {
      "byteLimit": 2048000,
      "rowLimit": 10000
     },
     "inputWidgets": {},
     "nuid": "b134e12f-a13f-440c-8b89-e26c1e607ab6",
     "showTitle": false,
     "title": ""
    }
   },
   "source": [
    "Do expert users have specific interests, or do they have general interests? \n",
    "Kindly explain your thought process and rationale behind arriving at your answer\n",
    "\n",
    "- The correlation coefficient of 0.72 indicates a strong positive relationship between Reputation points and Interest Diversity scores among users. This suggests that as users gain more reputation points (indicating expertise), they also tend to have higher interest diversity scores, indicating a broad range of interests rather than specific ones."
   ]
  }
 ],
 "metadata": {
  "application/vnd.databricks.v1+notebook": {
   "dashboards": [],
   "language": "python",
   "notebookMetadata": {
    "pythonIndentUnit": 2
   },
   "notebookName": "Task4",
   "widgets": {}
  },
  "kernelspec": {
   "display_name": "Python 3 (ipykernel)",
   "language": "python",
   "name": "python3"
  },
  "language_info": {
   "codemirror_mode": {
    "name": "ipython",
    "version": 3
   },
   "file_extension": ".py",
   "mimetype": "text/x-python",
   "name": "python",
   "nbconvert_exporter": "python",
   "pygments_lexer": "ipython3",
   "version": "3.10.12"
  }
 },
 "nbformat": 4,
 "nbformat_minor": 0
}
